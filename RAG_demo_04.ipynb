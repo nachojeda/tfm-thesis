{
 "cells": [
  {
   "cell_type": "markdown",
   "metadata": {},
   "source": [
    "## RAG app TFM v4\n",
    "In this use case it is shown how to extract information from a PDF file through LLM queries with RAG (Retrieval Augmented Generation) technology. For this use case is necessary the use of a vector database (in this case FAISS), embeddings and OpenAI model calls. To show the final result, the model is embedded on a Gradio UI.\n",
    "\n",
    "In this version it would be used Llama Index as vector databse."
   ]
  },
  {
   "cell_type": "code",
   "execution_count": 1,
   "metadata": {},
   "outputs": [
    {
     "data": {
      "text/plain": [
       "True"
      ]
     },
     "execution_count": 1,
     "metadata": {},
     "output_type": "execute_result"
    }
   ],
   "source": [
    "from dotenv import load_dotenv\n",
    "import os\n",
    "\n",
    "\n",
    "from llama_index import SimpleDirectoryReader\n",
    "from llama_index import Document\n",
    "from llama_index import VectorStoreIndex\n",
    "from llama_index import ServiceContext\n",
    "from llama_index.llms import OpenAI\n",
    "from llama_index.embeddings import OpenAIEmbedding\n",
    "\n",
    "load_dotenv(\"apis.env\")\n",
    "# hf_api_key = os.environ['HF_API_KEY']"
   ]
  },
  {
   "cell_type": "markdown",
   "metadata": {},
   "source": [
    "# Advanced Gradio app"
   ]
  },
  {
   "cell_type": "code",
   "execution_count": 3,
   "metadata": {},
   "outputs": [],
   "source": [
    "import gradio as gr\n",
    "\n",
    "# CSS Template \n",
    "theme = gr.themes.Base(\n",
    "    primary_hue=\"rose\",\n",
    ").set(\n",
    "    body_background_fill='*neutral_50',\n",
    "    body_text_color='*neutral_500',\n",
    "    body_text_weight='300',\n",
    "    background_fill_primary='*neutral_50',\n",
    "    background_fill_secondary='*primary_50',\n",
    "    border_color_primary='*primary_400',\n",
    "    color_accent_soft='*primary_300',\n",
    "    link_text_color='*primary_300',\n",
    "    link_text_color_active='*neutral_300',\n",
    "    link_text_color_hover='*primary_100',\n",
    "    link_text_color_visited='*neutral_400',\n",
    "    code_background_fill='*primary_200',\n",
    "    button_secondary_background_fill='*neutral_100',\n",
    "    button_secondary_border_color='*neutral_900',\n",
    "    button_secondary_text_color='*primary_400',\n",
    "    button_cancel_background_fill='*primary_600',\n",
    "    button_cancel_background_fill_hover='*primary_700',\n",
    "    button_cancel_text_color='*neutral_50',\n",
    "    slider_color='*primary_500'\n",
    ")\n"
   ]
  },
  {
   "cell_type": "code",
   "execution_count": 27,
   "metadata": {},
   "outputs": [
    {
     "ename": "AttributeError",
     "evalue": "'int' object has no attribute '_id'",
     "output_type": "error",
     "traceback": [
      "\u001b[1;31m---------------------------------------------------------------------------\u001b[0m",
      "\u001b[1;31mAttributeError\u001b[0m                            Traceback (most recent call last)",
      "\u001b[1;32mc:\\Users\\Nacho\\Documents\\MASTER\\TFM\\tfm-thesis\\RAG_demo_04.ipynb Cell 5\u001b[0m line \u001b[0;36m7\n\u001b[0;32m     <a href='vscode-notebook-cell:/c%3A/Users/Nacho/Documents/MASTER/TFM/tfm-thesis/RAG_demo_04.ipynb#W4sZmlsZQ%3D%3D?line=73'>74</a>\u001b[0m btn \u001b[39m=\u001b[39m gr\u001b[39m.\u001b[39mButton(\u001b[39m\"\u001b[39m\u001b[39mSubmit\u001b[39m\u001b[39m\"\u001b[39m, variant\u001b[39m=\u001b[39m\u001b[39m\"\u001b[39m\u001b[39mprimary\u001b[39m\u001b[39m\"\u001b[39m)\n\u001b[0;32m     <a href='vscode-notebook-cell:/c%3A/Users/Nacho/Documents/MASTER/TFM/tfm-thesis/RAG_demo_04.ipynb#W4sZmlsZQ%3D%3D?line=74'>75</a>\u001b[0m clear \u001b[39m=\u001b[39m gr\u001b[39m.\u001b[39mClearButton(components\u001b[39m=\u001b[39m[msg, completion], value\u001b[39m=\u001b[39m\u001b[39m\"\u001b[39m\u001b[39mClear console\u001b[39m\u001b[39m\"\u001b[39m, variant\u001b[39m=\u001b[39m\u001b[39m\"\u001b[39m\u001b[39mstop\u001b[39m\u001b[39m\"\u001b[39m)\n\u001b[1;32m---> <a href='vscode-notebook-cell:/c%3A/Users/Nacho/Documents/MASTER/TFM/tfm-thesis/RAG_demo_04.ipynb#W4sZmlsZQ%3D%3D?line=76'>77</a>\u001b[0m btn\u001b[39m.\u001b[39mclick(respond, inputs\u001b[39m=\u001b[39m[msg, output_label, temperature, max_tokens], outputs\u001b[39m=\u001b[39m[completion]) \u001b[39m#, temperature, max_tokens\u001b[39;00m\n\u001b[0;32m     <a href='vscode-notebook-cell:/c%3A/Users/Nacho/Documents/MASTER/TFM/tfm-thesis/RAG_demo_04.ipynb#W4sZmlsZQ%3D%3D?line=77'>78</a>\u001b[0m msg\u001b[39m.\u001b[39msubmit(respond, inputs\u001b[39m=\u001b[39m[msg, output_label, temperature, max_tokens], outputs\u001b[39m=\u001b[39m[completion]) \u001b[39m#, temperature, max_tokens\u001b[39;00m\n\u001b[0;32m     <a href='vscode-notebook-cell:/c%3A/Users/Nacho/Documents/MASTER/TFM/tfm-thesis/RAG_demo_04.ipynb#W4sZmlsZQ%3D%3D?line=79'>80</a>\u001b[0m \u001b[39m# completion.change(fn=test, inputs=stream_out)\u001b[39;00m\n",
      "File \u001b[1;32mc:\\Users\\Nacho\\anaconda3\\envs\\TFM\\Lib\\site-packages\\gradio\\events.py:280\u001b[0m, in \u001b[0;36mEventListener._setup.<locals>.event_trigger\u001b[1;34m(block, fn, inputs, outputs, api_name, scroll_to_output, show_progress, queue, batch, max_batch_size, preprocess, postprocess, cancels, every, trigger_mode, js, concurrency_limit, concurrency_id, show_api)\u001b[0m\n\u001b[0;32m    275\u001b[0m \u001b[39mif\u001b[39;00m Context\u001b[39m.\u001b[39mroot_block \u001b[39mis\u001b[39;00m \u001b[39mNone\u001b[39;00m:\n\u001b[0;32m    276\u001b[0m     \u001b[39mraise\u001b[39;00m \u001b[39mAttributeError\u001b[39;00m(\n\u001b[0;32m    277\u001b[0m         \u001b[39mf\u001b[39m\u001b[39m\"\u001b[39m\u001b[39mCannot call \u001b[39m\u001b[39m{\u001b[39;00m_event_name\u001b[39m}\u001b[39;00m\u001b[39m outside of a gradio.Blocks context.\u001b[39m\u001b[39m\"\u001b[39m\n\u001b[0;32m    278\u001b[0m     )\n\u001b[1;32m--> 280\u001b[0m dep, dep_index \u001b[39m=\u001b[39m Context\u001b[39m.\u001b[39mroot_block\u001b[39m.\u001b[39mset_event_trigger(\n\u001b[0;32m    281\u001b[0m     [EventListenerMethod(block \u001b[39mif\u001b[39;00m _has_trigger \u001b[39melse\u001b[39;00m \u001b[39mNone\u001b[39;00m, _event_name)],\n\u001b[0;32m    282\u001b[0m     fn,\n\u001b[0;32m    283\u001b[0m     inputs,\n\u001b[0;32m    284\u001b[0m     outputs,\n\u001b[0;32m    285\u001b[0m     preprocess\u001b[39m=\u001b[39mpreprocess,\n\u001b[0;32m    286\u001b[0m     postprocess\u001b[39m=\u001b[39mpostprocess,\n\u001b[0;32m    287\u001b[0m     scroll_to_output\u001b[39m=\u001b[39mscroll_to_output,\n\u001b[0;32m    288\u001b[0m     show_progress\u001b[39m=\u001b[39mshow_progress,\n\u001b[0;32m    289\u001b[0m     api_name\u001b[39m=\u001b[39mapi_name,\n\u001b[0;32m    290\u001b[0m     js\u001b[39m=\u001b[39mjs,\n\u001b[0;32m    291\u001b[0m     concurrency_limit\u001b[39m=\u001b[39mconcurrency_limit,\n\u001b[0;32m    292\u001b[0m     concurrency_id\u001b[39m=\u001b[39mconcurrency_id,\n\u001b[0;32m    293\u001b[0m     queue\u001b[39m=\u001b[39mqueue,\n\u001b[0;32m    294\u001b[0m     batch\u001b[39m=\u001b[39mbatch,\n\u001b[0;32m    295\u001b[0m     max_batch_size\u001b[39m=\u001b[39mmax_batch_size,\n\u001b[0;32m    296\u001b[0m     every\u001b[39m=\u001b[39mevery,\n\u001b[0;32m    297\u001b[0m     trigger_after\u001b[39m=\u001b[39m_trigger_after,\n\u001b[0;32m    298\u001b[0m     trigger_only_on_success\u001b[39m=\u001b[39m_trigger_only_on_success,\n\u001b[0;32m    299\u001b[0m     trigger_mode\u001b[39m=\u001b[39mtrigger_mode,\n\u001b[0;32m    300\u001b[0m     show_api\u001b[39m=\u001b[39mshow_api,\n\u001b[0;32m    301\u001b[0m )\n\u001b[0;32m    302\u001b[0m set_cancel_events(\n\u001b[0;32m    303\u001b[0m     [EventListenerMethod(block \u001b[39mif\u001b[39;00m _has_trigger \u001b[39melse\u001b[39;00m \u001b[39mNone\u001b[39;00m, _event_name)],\n\u001b[0;32m    304\u001b[0m     cancels,\n\u001b[0;32m    305\u001b[0m )\n\u001b[0;32m    306\u001b[0m \u001b[39mif\u001b[39;00m _callback:\n",
      "File \u001b[1;32mc:\\Users\\Nacho\\anaconda3\\envs\\TFM\\Lib\\site-packages\\gradio\\blocks.py:970\u001b[0m, in \u001b[0;36mBlocks.set_event_trigger\u001b[1;34m(self, targets, fn, inputs, outputs, preprocess, postprocess, scroll_to_output, show_progress, api_name, js, no_target, queue, batch, max_batch_size, cancels, every, collects_event_data, trigger_after, trigger_only_on_success, trigger_mode, concurrency_limit, concurrency_id, show_api)\u001b[0m\n\u001b[0;32m    965\u001b[0m \u001b[39mif\u001b[39;00m collects_event_data \u001b[39mis\u001b[39;00m \u001b[39mNone\u001b[39;00m:\n\u001b[0;32m    966\u001b[0m     collects_event_data \u001b[39m=\u001b[39m event_data_index \u001b[39mis\u001b[39;00m \u001b[39mnot\u001b[39;00m \u001b[39mNone\u001b[39;00m\n\u001b[0;32m    968\u001b[0m dependency \u001b[39m=\u001b[39m {\n\u001b[0;32m    969\u001b[0m     \u001b[39m\"\u001b[39m\u001b[39mtargets\u001b[39m\u001b[39m\"\u001b[39m: _targets,\n\u001b[1;32m--> 970\u001b[0m     \u001b[39m\"\u001b[39m\u001b[39minputs\u001b[39m\u001b[39m\"\u001b[39m: [block\u001b[39m.\u001b[39m_id \u001b[39mfor\u001b[39;00m block \u001b[39min\u001b[39;00m inputs],\n\u001b[0;32m    971\u001b[0m     \u001b[39m\"\u001b[39m\u001b[39moutputs\u001b[39m\u001b[39m\"\u001b[39m: [block\u001b[39m.\u001b[39m_id \u001b[39mfor\u001b[39;00m block \u001b[39min\u001b[39;00m outputs],\n\u001b[0;32m    972\u001b[0m     \u001b[39m\"\u001b[39m\u001b[39mbackend_fn\u001b[39m\u001b[39m\"\u001b[39m: fn \u001b[39mis\u001b[39;00m \u001b[39mnot\u001b[39;00m \u001b[39mNone\u001b[39;00m,\n\u001b[0;32m    973\u001b[0m     \u001b[39m\"\u001b[39m\u001b[39mjs\u001b[39m\u001b[39m\"\u001b[39m: js,\n\u001b[0;32m    974\u001b[0m     \u001b[39m\"\u001b[39m\u001b[39mqueue\u001b[39m\u001b[39m\"\u001b[39m: \u001b[39mFalse\u001b[39;00m \u001b[39mif\u001b[39;00m fn \u001b[39mis\u001b[39;00m \u001b[39mNone\u001b[39;00m \u001b[39melse\u001b[39;00m queue,\n\u001b[0;32m    975\u001b[0m     \u001b[39m\"\u001b[39m\u001b[39mapi_name\u001b[39m\u001b[39m\"\u001b[39m: api_name,\n\u001b[0;32m    976\u001b[0m     \u001b[39m\"\u001b[39m\u001b[39mscroll_to_output\u001b[39m\u001b[39m\"\u001b[39m: \u001b[39mFalse\u001b[39;00m \u001b[39mif\u001b[39;00m utils\u001b[39m.\u001b[39mget_space() \u001b[39melse\u001b[39;00m scroll_to_output,\n\u001b[0;32m    977\u001b[0m     \u001b[39m\"\u001b[39m\u001b[39mshow_progress\u001b[39m\u001b[39m\"\u001b[39m: show_progress,\n\u001b[0;32m    978\u001b[0m     \u001b[39m\"\u001b[39m\u001b[39mevery\u001b[39m\u001b[39m\"\u001b[39m: every,\n\u001b[0;32m    979\u001b[0m     \u001b[39m\"\u001b[39m\u001b[39mbatch\u001b[39m\u001b[39m\"\u001b[39m: batch,\n\u001b[0;32m    980\u001b[0m     \u001b[39m\"\u001b[39m\u001b[39mmax_batch_size\u001b[39m\u001b[39m\"\u001b[39m: max_batch_size,\n\u001b[0;32m    981\u001b[0m     \u001b[39m\"\u001b[39m\u001b[39mcancels\u001b[39m\u001b[39m\"\u001b[39m: cancels \u001b[39mor\u001b[39;00m [],\n\u001b[0;32m    982\u001b[0m     \u001b[39m\"\u001b[39m\u001b[39mtypes\u001b[39m\u001b[39m\"\u001b[39m: {\n\u001b[0;32m    983\u001b[0m         \u001b[39m\"\u001b[39m\u001b[39mcontinuous\u001b[39m\u001b[39m\"\u001b[39m: \u001b[39mbool\u001b[39m(every),\n\u001b[0;32m    984\u001b[0m         \u001b[39m\"\u001b[39m\u001b[39mgenerator\u001b[39m\u001b[39m\"\u001b[39m: inspect\u001b[39m.\u001b[39misgeneratorfunction(fn)\n\u001b[0;32m    985\u001b[0m         \u001b[39mor\u001b[39;00m inspect\u001b[39m.\u001b[39misasyncgenfunction(fn)\n\u001b[0;32m    986\u001b[0m         \u001b[39mor\u001b[39;00m \u001b[39mbool\u001b[39m(every),\n\u001b[0;32m    987\u001b[0m     },\n\u001b[0;32m    988\u001b[0m     \u001b[39m\"\u001b[39m\u001b[39mcollects_event_data\u001b[39m\u001b[39m\"\u001b[39m: collects_event_data,\n\u001b[0;32m    989\u001b[0m     \u001b[39m\"\u001b[39m\u001b[39mtrigger_after\u001b[39m\u001b[39m\"\u001b[39m: trigger_after,\n\u001b[0;32m    990\u001b[0m     \u001b[39m\"\u001b[39m\u001b[39mtrigger_only_on_success\u001b[39m\u001b[39m\"\u001b[39m: trigger_only_on_success,\n\u001b[0;32m    991\u001b[0m     \u001b[39m\"\u001b[39m\u001b[39mtrigger_mode\u001b[39m\u001b[39m\"\u001b[39m: trigger_mode,\n\u001b[0;32m    992\u001b[0m     \u001b[39m\"\u001b[39m\u001b[39mshow_api\u001b[39m\u001b[39m\"\u001b[39m: show_api,\n\u001b[0;32m    993\u001b[0m }\n\u001b[0;32m    994\u001b[0m \u001b[39mself\u001b[39m\u001b[39m.\u001b[39mdependencies\u001b[39m.\u001b[39mappend(dependency)\n\u001b[0;32m    995\u001b[0m \u001b[39mreturn\u001b[39;00m dependency, \u001b[39mlen\u001b[39m(\u001b[39mself\u001b[39m\u001b[39m.\u001b[39mdependencies) \u001b[39m-\u001b[39m \u001b[39m1\u001b[39m\n",
      "File \u001b[1;32mc:\\Users\\Nacho\\anaconda3\\envs\\TFM\\Lib\\site-packages\\gradio\\blocks.py:970\u001b[0m, in \u001b[0;36m<listcomp>\u001b[1;34m(.0)\u001b[0m\n\u001b[0;32m    965\u001b[0m \u001b[39mif\u001b[39;00m collects_event_data \u001b[39mis\u001b[39;00m \u001b[39mNone\u001b[39;00m:\n\u001b[0;32m    966\u001b[0m     collects_event_data \u001b[39m=\u001b[39m event_data_index \u001b[39mis\u001b[39;00m \u001b[39mnot\u001b[39;00m \u001b[39mNone\u001b[39;00m\n\u001b[0;32m    968\u001b[0m dependency \u001b[39m=\u001b[39m {\n\u001b[0;32m    969\u001b[0m     \u001b[39m\"\u001b[39m\u001b[39mtargets\u001b[39m\u001b[39m\"\u001b[39m: _targets,\n\u001b[1;32m--> 970\u001b[0m     \u001b[39m\"\u001b[39m\u001b[39minputs\u001b[39m\u001b[39m\"\u001b[39m: [block\u001b[39m.\u001b[39m_id \u001b[39mfor\u001b[39;00m block \u001b[39min\u001b[39;00m inputs],\n\u001b[0;32m    971\u001b[0m     \u001b[39m\"\u001b[39m\u001b[39moutputs\u001b[39m\u001b[39m\"\u001b[39m: [block\u001b[39m.\u001b[39m_id \u001b[39mfor\u001b[39;00m block \u001b[39min\u001b[39;00m outputs],\n\u001b[0;32m    972\u001b[0m     \u001b[39m\"\u001b[39m\u001b[39mbackend_fn\u001b[39m\u001b[39m\"\u001b[39m: fn \u001b[39mis\u001b[39;00m \u001b[39mnot\u001b[39;00m \u001b[39mNone\u001b[39;00m,\n\u001b[0;32m    973\u001b[0m     \u001b[39m\"\u001b[39m\u001b[39mjs\u001b[39m\u001b[39m\"\u001b[39m: js,\n\u001b[0;32m    974\u001b[0m     \u001b[39m\"\u001b[39m\u001b[39mqueue\u001b[39m\u001b[39m\"\u001b[39m: \u001b[39mFalse\u001b[39;00m \u001b[39mif\u001b[39;00m fn \u001b[39mis\u001b[39;00m \u001b[39mNone\u001b[39;00m \u001b[39melse\u001b[39;00m queue,\n\u001b[0;32m    975\u001b[0m     \u001b[39m\"\u001b[39m\u001b[39mapi_name\u001b[39m\u001b[39m\"\u001b[39m: api_name,\n\u001b[0;32m    976\u001b[0m     \u001b[39m\"\u001b[39m\u001b[39mscroll_to_output\u001b[39m\u001b[39m\"\u001b[39m: \u001b[39mFalse\u001b[39;00m \u001b[39mif\u001b[39;00m utils\u001b[39m.\u001b[39mget_space() \u001b[39melse\u001b[39;00m scroll_to_output,\n\u001b[0;32m    977\u001b[0m     \u001b[39m\"\u001b[39m\u001b[39mshow_progress\u001b[39m\u001b[39m\"\u001b[39m: show_progress,\n\u001b[0;32m    978\u001b[0m     \u001b[39m\"\u001b[39m\u001b[39mevery\u001b[39m\u001b[39m\"\u001b[39m: every,\n\u001b[0;32m    979\u001b[0m     \u001b[39m\"\u001b[39m\u001b[39mbatch\u001b[39m\u001b[39m\"\u001b[39m: batch,\n\u001b[0;32m    980\u001b[0m     \u001b[39m\"\u001b[39m\u001b[39mmax_batch_size\u001b[39m\u001b[39m\"\u001b[39m: max_batch_size,\n\u001b[0;32m    981\u001b[0m     \u001b[39m\"\u001b[39m\u001b[39mcancels\u001b[39m\u001b[39m\"\u001b[39m: cancels \u001b[39mor\u001b[39;00m [],\n\u001b[0;32m    982\u001b[0m     \u001b[39m\"\u001b[39m\u001b[39mtypes\u001b[39m\u001b[39m\"\u001b[39m: {\n\u001b[0;32m    983\u001b[0m         \u001b[39m\"\u001b[39m\u001b[39mcontinuous\u001b[39m\u001b[39m\"\u001b[39m: \u001b[39mbool\u001b[39m(every),\n\u001b[0;32m    984\u001b[0m         \u001b[39m\"\u001b[39m\u001b[39mgenerator\u001b[39m\u001b[39m\"\u001b[39m: inspect\u001b[39m.\u001b[39misgeneratorfunction(fn)\n\u001b[0;32m    985\u001b[0m         \u001b[39mor\u001b[39;00m inspect\u001b[39m.\u001b[39misasyncgenfunction(fn)\n\u001b[0;32m    986\u001b[0m         \u001b[39mor\u001b[39;00m \u001b[39mbool\u001b[39m(every),\n\u001b[0;32m    987\u001b[0m     },\n\u001b[0;32m    988\u001b[0m     \u001b[39m\"\u001b[39m\u001b[39mcollects_event_data\u001b[39m\u001b[39m\"\u001b[39m: collects_event_data,\n\u001b[0;32m    989\u001b[0m     \u001b[39m\"\u001b[39m\u001b[39mtrigger_after\u001b[39m\u001b[39m\"\u001b[39m: trigger_after,\n\u001b[0;32m    990\u001b[0m     \u001b[39m\"\u001b[39m\u001b[39mtrigger_only_on_success\u001b[39m\u001b[39m\"\u001b[39m: trigger_only_on_success,\n\u001b[0;32m    991\u001b[0m     \u001b[39m\"\u001b[39m\u001b[39mtrigger_mode\u001b[39m\u001b[39m\"\u001b[39m: trigger_mode,\n\u001b[0;32m    992\u001b[0m     \u001b[39m\"\u001b[39m\u001b[39mshow_api\u001b[39m\u001b[39m\"\u001b[39m: show_api,\n\u001b[0;32m    993\u001b[0m }\n\u001b[0;32m    994\u001b[0m \u001b[39mself\u001b[39m\u001b[39m.\u001b[39mdependencies\u001b[39m.\u001b[39mappend(dependency)\n\u001b[0;32m    995\u001b[0m \u001b[39mreturn\u001b[39;00m dependency, \u001b[39mlen\u001b[39m(\u001b[39mself\u001b[39m\u001b[39m.\u001b[39mdependencies) \u001b[39m-\u001b[39m \u001b[39m1\u001b[39m\n",
      "\u001b[1;31mAttributeError\u001b[0m: 'int' object has no attribute '_id'"
     ]
    }
   ],
   "source": [
    "import time\n",
    "\n",
    "def test(message):\n",
    "    for i in range(len(message)):\n",
    "        time.sleep(0.04)\n",
    "        yield message[: i + 1]\n",
    "\n",
    "def respond(msg, pdf, temperature, max_tokens):\n",
    "    documents = SimpleDirectoryReader(\n",
    "        input_files=[pdf]\n",
    "    ).load_data()\n",
    "    document = Document(text=\"\\n\\n\".join([doc.text for doc in documents]))\n",
    "    embed_model = OpenAIEmbedding(model=\"text-embedding-ada-002\", embed_batch_size=10)\n",
    "\n",
    "    llm = OpenAI(\n",
    "        model=\"gpt-3.5-turbo-instruct\",\n",
    "        temperature=temperature,\n",
    "        max_tokens=max_tokens,\n",
    "        streaming=True)\n",
    "    \n",
    "    service_context = ServiceContext.from_defaults(\n",
    "        llm=llm, embed_model=embed_model\n",
    "    )\n",
    "    index = VectorStoreIndex.from_documents([document],\n",
    "                                        service_context=service_context)\n",
    "    query_engine = index.as_query_engine()\n",
    "    response = query_engine.query(msg)\n",
    "    return response\n",
    "\n",
    "def process_file(uploaded_file):\n",
    "    if uploaded_file is not None:\n",
    "        filename = uploaded_file.name\n",
    "        return filename\n",
    "    return \"No file uploaded.\"\n",
    "    \n",
    "\n",
    "with gr.Blocks(theme=theme) as demo: \n",
    "    gr.Markdown(\"# TFM: RAG App \\U0001F468\\u200D\\U0001F393\")\n",
    "    gr.Markdown(\"This RAG app is designed to generate augmented responses from a PDF file which contains text.\")\n",
    "\n",
    "    file_input = gr.File(\n",
    "        # value=\"C:/Users/Nacho/Documents/MASTER/TFM/tfm-thesis/attention-is-all-you-need.pdf\",\n",
    "        file_types=[\".pdf\"],\n",
    "        every=process_file)\n",
    "    \n",
    "    output_label = gr.Textbox(visible=False)\n",
    "\n",
    "    file_input.change(process_file, inputs=file_input, outputs=output_label)\n",
    "\n",
    "    msg = gr.Textbox(label=\"Prompt\", value=\"What is the main topic in the text?\")\n",
    "    with gr.Accordion(label=\"Advanced options\",open=False):\n",
    "        temperature = gr.Slider(label=\"temperature\", minimum=0.1, maximum=1.0, value=0.2, step=0.1, info=\"Regulates the creativity of the answers\")\n",
    "        max_tokens = gr.Slider(label=\"Max tokens\", value=64, maximum=256, minimum=8, step=1, info=\"Regulates the length of the answers\")\n",
    "        \n",
    "        creativity = gr.Radio(label=\"Creativity\", interactive=True, choices=[\"None\", \"Medium\", \"High\"], value=\"None\", info=\"Regulates the creativity of the answers\")\n",
    "        length = gr.Radio(label=\"Output length\", interactive=True, choices=[\"Short\", \"Medium\", \"Large\"], value=\"Medium\", info=\"Regulates the length of the answers\")\n",
    "    \n",
    "    creativity.change(process_file, inputs=file_input, outputs=output_label)\n",
    "    length.change(process_file, inputs=file_input, outputs=output_label)\n",
    "\n",
    "    if length==\"Short\":\n",
    "        max_tokens=64\n",
    "    elif length==\"Medium\":\n",
    "        max_tokens=256\n",
    "    else:\n",
    "        max_tokens=512\n",
    "\n",
    "    if creativity==\"None\":\n",
    "        temperature=0\n",
    "    elif creativity==\"Medium\":\n",
    "        temperature=1\n",
    "    else:\n",
    "        temperature=2\n",
    "\n",
    "    completion = gr.Textbox(label=\"Response\")\n",
    "    # stream_out = gr.Textbox(visible=False)\n",
    "    btn = gr.Button(\"Submit\", variant=\"primary\")\n",
    "    clear = gr.ClearButton(components=[msg, completion], value=\"Clear console\", variant=\"stop\")\n",
    "    \n",
    "    btn.click(respond, inputs=[msg, output_label, temperature, max_tokens], outputs=[completion]) #, temperature, max_tokens\n",
    "    msg.submit(respond, inputs=[msg, output_label, temperature, max_tokens], outputs=[completion]) #, temperature, max_tokens\n",
    "\n",
    "    # completion.change(fn=test, inputs=stream_out)\n",
    "\n",
    "    gr.Markdown(\"\\U0001F6E0Created by Ignacio Ojeda Sánchez \"+\" \\U0001F50Ewww.linkedin.com/in/ignacio-ojeda-sánchez-610924225\", header_links=True)\n",
    "gr.close_all()\n",
    "demo.queue().launch(share=True)    "
   ]
  },
  {
   "cell_type": "code",
   "execution_count": 48,
   "metadata": {},
   "outputs": [],
   "source": [
    "gr.close_all()"
   ]
  },
  {
   "cell_type": "code",
   "execution_count": 13,
   "metadata": {},
   "outputs": [
    {
     "name": "stdout",
     "output_type": "stream",
     "text": [
      "This is a demo for a RAG system"
     ]
    }
   ],
   "source": [
    "import time\n",
    "def stream_text(text, interval=0.04):\n",
    "    for char in text:\n",
    "        print(char, end='', flush=True)\n",
    "        time.sleep(interval)\n",
    "stream_text(\"This is a demo for a RAG system\")"
   ]
  },
  {
   "cell_type": "code",
   "execution_count": null,
   "metadata": {},
   "outputs": [],
   "source": []
  }
 ],
 "metadata": {
  "kernelspec": {
   "display_name": "TFM",
   "language": "python",
   "name": "python3"
  },
  "language_info": {
   "codemirror_mode": {
    "name": "ipython",
    "version": 3
   },
   "file_extension": ".py",
   "mimetype": "text/x-python",
   "name": "python",
   "nbconvert_exporter": "python",
   "pygments_lexer": "ipython3",
   "version": "3.11.5"
  }
 },
 "nbformat": 4,
 "nbformat_minor": 2
}
