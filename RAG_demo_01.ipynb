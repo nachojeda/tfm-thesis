{
 "cells": [
  {
   "cell_type": "markdown",
   "metadata": {},
   "source": [
    "## RAG app TFM\n",
    "In this use case it is shown how to exctract information from a PDF file through LLM queries with RAG (Retrieval Augmented Generation) technology. For this use case is necessary the use of a vector database (in this case FAISS), embeddings and OpenAI model calls. To show the final result, the model is embedded on a Gradio UI."
   ]
  },
  {
   "cell_type": "code",
   "execution_count": 1,
   "metadata": {},
   "outputs": [
    {
     "data": {
      "text/plain": [
       "True"
      ]
     },
     "execution_count": 1,
     "metadata": {},
     "output_type": "execute_result"
    }
   ],
   "source": [
    "from dotenv import load_dotenv\n",
    "import os\n",
    "\n",
    "load_dotenv(\"apis.env\")\n",
    "# hf_api_key = os.environ['HF_API_KEY']"
   ]
  },
  {
   "cell_type": "code",
   "execution_count": 2,
   "metadata": {},
   "outputs": [],
   "source": [
    "# PDF to ectract info from\n",
    "pdf_path = \"BOE-A-1978-31229-consolidado.pdf\"\n",
    "\n",
    "# Load pdf with external info not seen during training of the LLM\n",
    "from langchain.document_loaders import PyPDFLoader\n",
    "loader = PyPDFLoader(pdf_path)\n",
    "pages = loader.load_and_split()"
   ]
  },
  {
   "cell_type": "code",
   "execution_count": 3,
   "metadata": {},
   "outputs": [
    {
     "data": {
      "text/plain": [
       "Document(page_content='Constitución Española.\\nCortes Generales\\n«BOE» núm. 311, de 29 de diciembre de 1978\\nReferencia: BOE-A-1978-31229\\nÍNDICE\\n   \\nPreámbulo ................................................................ 3\\nTÍTULO PRELIMINAR ........................................................... 3\\nTÍTULO I. De los derechos y deberes fundamentales ........................................ 4\\nCAPÍTULO PRIMERO. De los españoles y los extranjeros ................................... 5\\nCAPÍTULO SEGUNDO. Derechos y libertades .......................................... 5\\nSección 1.ª De los derechos fundamentales y de las libertades públicas ........................ 5\\nSección 2.ª De los derechos y deberes de los ciudadanos ................................. 8\\nCAPÍTULO TERCERO. De los principios rectores de la política social y económica ................... 10\\nCAPÍTULO CUARTO. De las garantías de las libertades y derechos fundamentales .................. 12\\nCAPÍTULO QUINTO. De la suspensión de los derechos y libertades ............................ 12\\nTÍTULO II. De la Corona .......................................................... 12\\nTÍTULO III. De las Cortes Generales .................................................. 14\\nCAPÍTULO PRIMERO. De las Cámaras .............................................. 14\\nCAPÍTULO SEGUNDO. De la elaboración de las leyes ..................................... 17\\nCAPÍTULO TERCERO. De los Tratados Internacionales .................................... 19\\nTÍTULO IV. Del Gobierno y de la Administración ........................................... 20\\nTÍTULO V. De las relaciones entre el Gobierno y las Cortes Generales ............................ 22\\nTÍTULO VI. Del Poder Judicial ...................................................... 24\\nTÍTULO VII. Economía y Hacienda ................................................... 25\\nLEGISLACIÓN CONSOLIDADA\\nPágina 1', metadata={'source': 'BOE-A-1978-31229-consolidado.pdf', 'page': 0})"
      ]
     },
     "execution_count": 3,
     "metadata": {},
     "output_type": "execute_result"
    }
   ],
   "source": [
    "pages[0]"
   ]
  },
  {
   "cell_type": "code",
   "execution_count": 4,
   "metadata": {},
   "outputs": [],
   "source": [
    "# Generate vector space representation with words from the external data\n",
    "from langchain.embeddings import OpenAIEmbeddings\n",
    "embeddings = OpenAIEmbeddings()"
   ]
  },
  {
   "cell_type": "code",
   "execution_count": 5,
   "metadata": {},
   "outputs": [],
   "source": [
    "# Load embeddings in vector database\n",
    "from langchain.vectorstores import FAISS\n",
    "db = FAISS.from_documents(pages, embeddings)"
   ]
  },
  {
   "cell_type": "code",
   "execution_count": 50,
   "metadata": {},
   "outputs": [
    {
     "data": {
      "text/plain": [
       "{'result': ' Sí, se puede utilizar el modo \"Turbo\" para triturar alimentos'}"
      ]
     },
     "execution_count": 50,
     "metadata": {},
     "output_type": "execute_result"
    }
   ],
   "source": [
    "input = \"Existe algún modo rápido para triturar alimentos?\"\n",
    "chain(input, return_only_outputs=True)"
   ]
  },
  {
   "cell_type": "markdown",
   "metadata": {},
   "source": [
    "# Advanced Gradio app"
   ]
  },
  {
   "cell_type": "code",
   "execution_count": 49,
   "metadata": {},
   "outputs": [],
   "source": [
    "import gradio as gr\n",
    "\n",
    "theme = gr.themes.Base(\n",
    "    primary_hue=\"rose\",\n",
    ").set(\n",
    "    body_background_fill='*neutral_50',\n",
    "    body_text_color='*neutral_500',\n",
    "    body_text_weight='300',\n",
    "    background_fill_primary='*neutral_50',\n",
    "    background_fill_secondary='*primary_50',\n",
    "    border_color_primary='*primary_400',\n",
    "    color_accent_soft='*primary_300',\n",
    "    link_text_color='*primary_300',\n",
    "    link_text_color_active='*neutral_300',\n",
    "    link_text_color_hover='*primary_100',\n",
    "    link_text_color_visited='*neutral_400',\n",
    "    code_background_fill='*primary_200',\n",
    "    button_secondary_background_fill='*neutral_100',\n",
    "    button_secondary_border_color='*neutral_900',\n",
    "    button_secondary_text_color='*primary_400',\n",
    "    button_cancel_background_fill='*primary_600',\n",
    "    button_cancel_background_fill_hover='*primary_700',\n",
    "    button_cancel_text_color='*neutral_50',\n",
    "    slider_color='*primary_500'\n",
    ")\n"
   ]
  },
  {
   "cell_type": "code",
   "execution_count": 55,
   "metadata": {},
   "outputs": [
    {
     "name": "stdout",
     "output_type": "stream",
     "text": [
      "Running on local URL:  http://127.0.0.1:7889\n",
      "Running on public URL: https://4c593117ca3b342302.gradio.live\n",
      "\n",
      "This share link expires in 72 hours. For free permanent hosting and GPU upgrades, run `gradio deploy` from Terminal to deploy to Spaces (https://huggingface.co/spaces)\n"
     ]
    },
    {
     "data": {
      "text/html": [
       "<div><iframe src=\"https://4c593117ca3b342302.gradio.live\" width=\"100%\" height=\"500\" allow=\"autoplay; camera; microphone; clipboard-read; clipboard-write;\" frameborder=\"0\" allowfullscreen></iframe></div>"
      ],
      "text/plain": [
       "<IPython.core.display.HTML object>"
      ]
     },
     "metadata": {},
     "output_type": "display_data"
    },
    {
     "data": {
      "text/plain": []
     },
     "execution_count": 55,
     "metadata": {},
     "output_type": "execute_result"
    }
   ],
   "source": [
    "import gradio as gr\n",
    "from langchain.chains import RetrievalQA\n",
    "from langchain.llms import OpenAI\n",
    "\n",
    "def extract_sentence(dictionary):\n",
    "    # Extract the value associated with the key 'result'\n",
    "    sentence = dictionary.get('result', '')\n",
    "    return sentence\n",
    "\n",
    "def model_hyperparameters(temperature, max_tokens):#\n",
    "    llm = OpenAI(\n",
    "        model_name=\"gpt-3.5-turbo-instruct\",\n",
    "        temperature=temperature,\n",
    "        max_tokens=max_tokens,\n",
    "        streaming=True\n",
    "        )\n",
    "    chain = RetrievalQA.from_llm(llm=llm, retriever=db.as_retriever())\n",
    "    return chain\n",
    "\n",
    "def respond(message,temperature=0.7, max_tokens=32):\n",
    "    prompt = message\n",
    "    chain = model_hyperparameters(temperature, max_tokens)\n",
    "    completion = chain(prompt, return_only_outputs=True)\n",
    "    return extract_sentence(completion)\n",
    "\n",
    "with gr.Blocks(theme=theme) as demo: \n",
    "    gr.Markdown(\"# TFM RAG App\")\n",
    "    gr.Markdown(\"With this RAG app, you can generate augmented responses from la Constitución Española.\")\n",
    "\n",
    "    msg = gr.Textbox(label=\"Ask a question\")\n",
    "    with gr.Accordion(label=\"Advanced options\",open=False):\n",
    "        temperature = gr.Slider(label=\"temperature\", minimum=0.1, maximum=1.0, value=0.2, step=0.1)\n",
    "        max_tokens = gr.Slider(label=\"Max tokens\", value=64, maximum=256, minimum=8, step=1)\n",
    "    completion = gr.Textbox(label=\"Response\")\n",
    "    btn = gr.Button(\"Submit\", variant=\"primary\")\n",
    "    clear = gr.ClearButton(components=[msg, completion], value=\"Clear console\", variant=\"stop\")\n",
    "\n",
    "    btn.click(respond, inputs=[msg, temperature, max_tokens], outputs=[completion])\n",
    "    msg.submit(respond, inputs=[msg, temperature, max_tokens], outputs=[completion])\n",
    "\n",
    "gr.close_all()\n",
    "demo.queue().launch(share=True)    "
   ]
  },
  {
   "cell_type": "code",
   "execution_count": 32,
   "metadata": {},
   "outputs": [
    {
     "name": "stdout",
     "output_type": "stream",
     "text": [
      "Rerunning server... use `close()` to stop if you need to change `launch()` parameters.\n",
      "----\n",
      "\n",
      "To create a public link, set `share=True` in `launch()`.\n"
     ]
    },
    {
     "data": {
      "text/html": [
       "<div><iframe src=\"http://127.0.0.1:7872/\" width=\"100%\" height=\"500\" allow=\"autoplay; camera; microphone; clipboard-read; clipboard-write;\" frameborder=\"0\" allowfullscreen></iframe></div>"
      ],
      "text/plain": [
       "<IPython.core.display.HTML object>"
      ]
     },
     "metadata": {},
     "output_type": "display_data"
    },
    {
     "data": {
      "text/plain": []
     },
     "execution_count": 32,
     "metadata": {},
     "output_type": "execute_result"
    },
    {
     "name": "stderr",
     "output_type": "stream",
     "text": [
      "Exception in thread Thread-67 (_do_normal_analytics_request):\n",
      "Traceback (most recent call last):\n",
      "  File \"c:\\Users\\Nacho\\anaconda3\\envs\\TFM\\Lib\\site-packages\\httpcore\\_exceptions.py\", line 10, in map_exceptions\n",
      "    yield\n",
      "  File \"c:\\Users\\Nacho\\anaconda3\\envs\\TFM\\Lib\\site-packages\\httpcore\\_backends\\sync.py\", line 136, in write\n",
      "    n = self._sock.send(buffer)\n",
      "        ^^^^^^^^^^^^^^^^^^^^^^^\n",
      "  File \"c:\\Users\\Nacho\\anaconda3\\envs\\TFM\\Lib\\ssl.py\", line 1243, in send\n",
      "    return self._sslobj.write(data)\n",
      "           ^^^^^^^^^^^^^^^^^^^^^^^^\n",
      "TimeoutError: The write operation timed out\n",
      "\n",
      "The above exception was the direct cause of the following exception:\n",
      "\n",
      "Traceback (most recent call last):\n",
      "  File \"c:\\Users\\Nacho\\anaconda3\\envs\\TFM\\Lib\\site-packages\\httpx\\_transports\\default.py\", line 66, in map_httpcore_exceptions\n",
      "    yield\n",
      "  File \"c:\\Users\\Nacho\\anaconda3\\envs\\TFM\\Lib\\site-packages\\httpx\\_transports\\default.py\", line 228, in handle_request\n",
      "    resp = self._pool.handle_request(req)\n",
      "           ^^^^^^^^^^^^^^^^^^^^^^^^^^^^^^\n",
      "  File \"c:\\Users\\Nacho\\anaconda3\\envs\\TFM\\Lib\\site-packages\\httpcore\\_sync\\connection_pool.py\", line 268, in handle_request\n",
      "    raise exc\n",
      "  File \"c:\\Users\\Nacho\\anaconda3\\envs\\TFM\\Lib\\site-packages\\httpcore\\_sync\\connection_pool.py\", line 251, in handle_request\n",
      "    response = connection.handle_request(request)\n",
      "               ^^^^^^^^^^^^^^^^^^^^^^^^^^^^^^^^^^\n",
      "  File \"c:\\Users\\Nacho\\anaconda3\\envs\\TFM\\Lib\\site-packages\\httpcore\\_sync\\connection.py\", line 103, in handle_request\n",
      "    return self._connection.handle_request(request)\n",
      "           ^^^^^^^^^^^^^^^^^^^^^^^^^^^^^^^^^^^^^^^^\n",
      "  File \"c:\\Users\\Nacho\\anaconda3\\envs\\TFM\\Lib\\site-packages\\httpcore\\_sync\\http11.py\", line 133, in handle_request\n",
      "    raise exc\n",
      "  File \"c:\\Users\\Nacho\\anaconda3\\envs\\TFM\\Lib\\site-packages\\httpcore\\_sync\\http11.py\", line 94, in handle_request\n",
      "    self._send_request_body(**kwargs)\n",
      "  File \"c:\\Users\\Nacho\\anaconda3\\envs\\TFM\\Lib\\site-packages\\httpcore\\_sync\\http11.py\", line 156, in _send_request_body\n",
      "    self._send_event(event, timeout=timeout)\n",
      "  File \"c:\\Users\\Nacho\\anaconda3\\envs\\TFM\\Lib\\site-packages\\httpcore\\_sync\\http11.py\", line 165, in _send_event\n",
      "    self._network_stream.write(bytes_to_send, timeout=timeout)\n",
      "  File \"c:\\Users\\Nacho\\anaconda3\\envs\\TFM\\Lib\\site-packages\\httpcore\\_backends\\sync.py\", line 133, in write\n",
      "    with map_exceptions(exc_map):\n",
      "  File \"c:\\Users\\Nacho\\anaconda3\\envs\\TFM\\Lib\\contextlib.py\", line 155, in __exit__\n",
      "    self.gen.throw(typ, value, traceback)\n",
      "  File \"c:\\Users\\Nacho\\anaconda3\\envs\\TFM\\Lib\\site-packages\\httpcore\\_exceptions.py\", line 14, in map_exceptions\n",
      "    raise to_exc(exc) from exc\n",
      "httpcore.WriteTimeout: The write operation timed out\n",
      "\n",
      "The above exception was the direct cause of the following exception:\n",
      "\n",
      "Traceback (most recent call last):\n",
      "  File \"c:\\Users\\Nacho\\anaconda3\\envs\\TFM\\Lib\\threading.py\", line 1038, in _bootstrap_inner\n",
      "    self.run()\n",
      "  File \"c:\\Users\\Nacho\\anaconda3\\envs\\TFM\\Lib\\threading.py\", line 975, in run\n",
      "    self._target(*self._args, **self._kwargs)\n",
      "  File \"c:\\Users\\Nacho\\anaconda3\\envs\\TFM\\Lib\\site-packages\\gradio\\analytics.py\", line 63, in _do_normal_analytics_request\n",
      "    httpx.post(url, data=data, timeout=5)\n",
      "  File \"c:\\Users\\Nacho\\anaconda3\\envs\\TFM\\Lib\\site-packages\\httpx\\_api.py\", line 304, in post\n",
      "    return request(\n",
      "           ^^^^^^^^\n",
      "  File \"c:\\Users\\Nacho\\anaconda3\\envs\\TFM\\Lib\\site-packages\\httpx\\_api.py\", line 100, in request\n",
      "    return client.request(\n",
      "           ^^^^^^^^^^^^^^^\n",
      "  File \"c:\\Users\\Nacho\\anaconda3\\envs\\TFM\\Lib\\site-packages\\httpx\\_client.py\", line 814, in request\n",
      "    return self.send(request, auth=auth, follow_redirects=follow_redirects)\n",
      "           ^^^^^^^^^^^^^^^^^^^^^^^^^^^^^^^^^^^^^^^^^^^^^^^^^^^^^^^^^^^^^^^^\n",
      "  File \"c:\\Users\\Nacho\\anaconda3\\envs\\TFM\\Lib\\site-packages\\httpx\\_client.py\", line 901, in send\n",
      "    response = self._send_handling_auth(\n",
      "               ^^^^^^^^^^^^^^^^^^^^^^^^^\n",
      "  File \"c:\\Users\\Nacho\\anaconda3\\envs\\TFM\\Lib\\site-packages\\httpx\\_client.py\", line 929, in _send_handling_auth\n",
      "    response = self._send_handling_redirects(\n",
      "               ^^^^^^^^^^^^^^^^^^^^^^^^^^^^^^\n",
      "  File \"c:\\Users\\Nacho\\anaconda3\\envs\\TFM\\Lib\\site-packages\\httpx\\_client.py\", line 966, in _send_handling_redirects\n",
      "    response = self._send_single_request(request)\n",
      "               ^^^^^^^^^^^^^^^^^^^^^^^^^^^^^^^^^^\n",
      "  File \"c:\\Users\\Nacho\\anaconda3\\envs\\TFM\\Lib\\site-packages\\httpx\\_client.py\", line 1002, in _send_single_request\n",
      "    response = transport.handle_request(request)\n",
      "               ^^^^^^^^^^^^^^^^^^^^^^^^^^^^^^^^^\n",
      "  File \"c:\\Users\\Nacho\\anaconda3\\envs\\TFM\\Lib\\site-packages\\httpx\\_transports\\default.py\", line 227, in handle_request\n",
      "    with map_httpcore_exceptions():\n",
      "  File \"c:\\Users\\Nacho\\anaconda3\\envs\\TFM\\Lib\\contextlib.py\", line 155, in __exit__\n",
      "    self.gen.throw(typ, value, traceback)\n",
      "  File \"c:\\Users\\Nacho\\anaconda3\\envs\\TFM\\Lib\\site-packages\\httpx\\_transports\\default.py\", line 83, in map_httpcore_exceptions\n",
      "    raise mapped_exc(message) from exc\n",
      "httpx.WriteTimeout: The write operation timed out\n"
     ]
    }
   ],
   "source": [
    "gr.themes.builder()"
   ]
  },
  {
   "cell_type": "code",
   "execution_count": null,
   "metadata": {},
   "outputs": [],
   "source": []
  }
 ],
 "metadata": {
  "kernelspec": {
   "display_name": "TFM",
   "language": "python",
   "name": "python3"
  },
  "language_info": {
   "codemirror_mode": {
    "name": "ipython",
    "version": 3
   },
   "file_extension": ".py",
   "mimetype": "text/x-python",
   "name": "python",
   "nbconvert_exporter": "python",
   "pygments_lexer": "ipython3",
   "version": "3.11.5"
  }
 },
 "nbformat": 4,
 "nbformat_minor": 2
}
