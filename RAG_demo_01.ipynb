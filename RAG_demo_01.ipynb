{
 "cells": [
  {
   "cell_type": "markdown",
   "metadata": {},
   "source": [
    "## RAG app TFM\n",
    "In this use case it is shown how to exctract information from a PDF file through LLM queries with RAG (Retrieval Augmented Generation) technology. For this use case is necessary the use of a vector database (in this case FAISS), embeddings and OpenAI model calls. To show the final result, the model is embedded on a Gradio UI."
   ]
  },
  {
   "cell_type": "code",
   "execution_count": 1,
   "metadata": {},
   "outputs": [],
   "source": [
    "from dotenv import load_dotenv\n",
    "import os\n",
    "\n",
    "load_dotenv(\"apis.env\")\n",
    "hf_api_key = os.environ['HF_API_KEY']\n"
   ]
  },
  {
   "cell_type": "code",
   "execution_count": 2,
   "metadata": {},
   "outputs": [],
   "source": [
    "# PDF to ectract info from\n",
    "pdf_path = \"BOE-A-1978-31229-consolidado.pdf\"\n",
    "\n",
    "# Load pdf with external info not seen during training of the LLM\n",
    "from langchain.document_loaders import PyPDFLoader\n",
    "loader = PyPDFLoader(pdf_path)\n",
    "pages = loader.load_and_split()"
   ]
  },
  {
   "cell_type": "code",
   "execution_count": 3,
   "metadata": {},
   "outputs": [
    {
     "data": {
      "text/plain": [
       "Document(page_content='Constitución Española.\\nCortes Generales\\n«BOE» núm. 311, de 29 de diciembre de 1978\\nReferencia: BOE-A-1978-31229\\nÍNDICE\\n   \\nPreámbulo ................................................................ 3\\nTÍTULO PRELIMINAR ........................................................... 3\\nTÍTULO I. De los derechos y deberes fundamentales ........................................ 4\\nCAPÍTULO PRIMERO. De los españoles y los extranjeros ................................... 5\\nCAPÍTULO SEGUNDO. Derechos y libertades .......................................... 5\\nSección 1.ª De los derechos fundamentales y de las libertades públicas ........................ 5\\nSección 2.ª De los derechos y deberes de los ciudadanos ................................. 8\\nCAPÍTULO TERCERO. De los principios rectores de la política social y económica ................... 10\\nCAPÍTULO CUARTO. De las garantías de las libertades y derechos fundamentales .................. 12\\nCAPÍTULO QUINTO. De la suspensión de los derechos y libertades ............................ 12\\nTÍTULO II. De la Corona .......................................................... 12\\nTÍTULO III. De las Cortes Generales .................................................. 14\\nCAPÍTULO PRIMERO. De las Cámaras .............................................. 14\\nCAPÍTULO SEGUNDO. De la elaboración de las leyes ..................................... 17\\nCAPÍTULO TERCERO. De los Tratados Internacionales .................................... 19\\nTÍTULO IV. Del Gobierno y de la Administración ........................................... 20\\nTÍTULO V. De las relaciones entre el Gobierno y las Cortes Generales ............................ 22\\nTÍTULO VI. Del Poder Judicial ...................................................... 24\\nTÍTULO VII. Economía y Hacienda ................................................... 25\\nLEGISLACIÓN CONSOLIDADA\\nPágina 1', metadata={'source': 'BOE-A-1978-31229-consolidado.pdf', 'page': 0})"
      ]
     },
     "execution_count": 3,
     "metadata": {},
     "output_type": "execute_result"
    }
   ],
   "source": [
    "pages[0]"
   ]
  },
  {
   "cell_type": "code",
   "execution_count": 4,
   "metadata": {},
   "outputs": [],
   "source": [
    "# Generate vector space representation with words from the external data\n",
    "from langchain.embeddings import OpenAIEmbeddings\n",
    "embeddings = OpenAIEmbeddings()"
   ]
  },
  {
   "cell_type": "code",
   "execution_count": 5,
   "metadata": {},
   "outputs": [],
   "source": [
    "# Load embeddings in vector database\n",
    "from langchain.vectorstores import FAISS\n",
    "db = FAISS.from_documents(pages, embeddings)"
   ]
  },
  {
   "cell_type": "code",
   "execution_count": 50,
   "metadata": {},
   "outputs": [
    {
     "data": {
      "text/plain": [
       "{'result': ' Sí, se puede utilizar el modo \"Turbo\" para triturar alimentos'}"
      ]
     },
     "execution_count": 50,
     "metadata": {},
     "output_type": "execute_result"
    }
   ],
   "source": [
    "input = \"Existe algún modo rápido para triturar alimentos?\"\n",
    "chain(input, return_only_outputs=True)"
   ]
  },
  {
   "cell_type": "markdown",
   "metadata": {},
   "source": [
    "# Advanced Gradio app"
   ]
  },
  {
   "cell_type": "code",
   "execution_count": 8,
   "metadata": {},
   "outputs": [
    {
     "name": "stdout",
     "output_type": "stream",
     "text": [
      "Running on local URL:  http://127.0.0.1:7862\n",
      "Running on public URL: https://bb0f2ed2dc35ceb312.gradio.live\n",
      "\n",
      "This share link expires in 72 hours. For free permanent hosting and GPU upgrades, run `gradio deploy` from Terminal to deploy to Spaces (https://huggingface.co/spaces)\n"
     ]
    },
    {
     "data": {
      "text/html": [
       "<div><iframe src=\"https://bb0f2ed2dc35ceb312.gradio.live\" width=\"100%\" height=\"500\" allow=\"autoplay; camera; microphone; clipboard-read; clipboard-write;\" frameborder=\"0\" allowfullscreen></iframe></div>"
      ],
      "text/plain": [
       "<IPython.core.display.HTML object>"
      ]
     },
     "metadata": {},
     "output_type": "display_data"
    },
    {
     "data": {
      "text/plain": []
     },
     "execution_count": 8,
     "metadata": {},
     "output_type": "execute_result"
    }
   ],
   "source": [
    "import gradio as gr\n",
    "from langchain.chains import RetrievalQA\n",
    "from langchain.llms import OpenAI\n",
    "\n",
    "def extract_sentence(dictionary):\n",
    "    # Extract the value associated with the key 'result'\n",
    "    sentence = dictionary.get('result', '')\n",
    "    return sentence\n",
    "\n",
    "def model_hyperparameters(temperature, max_tokens):#\n",
    "    llm = OpenAI(\n",
    "        model_name=\"gpt-3.5-turbo-instruct\",\n",
    "        temperature=temperature,\n",
    "        max_tokens=max_tokens,\n",
    "        streaming=True\n",
    "        )\n",
    "    chain = RetrievalQA.from_llm(llm=llm, retriever=db.as_retriever())\n",
    "    return chain\n",
    "\n",
    "def respond(message,temperature=0.7, max_tokens=32):\n",
    "    prompt = message\n",
    "    chain = model_hyperparameters(temperature, max_tokens)\n",
    "    completion = chain(prompt, return_only_outputs=True)\n",
    "    return extract_sentence(completion)\n",
    "\n",
    "with gr.Blocks() as demo:\n",
    "    completion = gr.Textbox(label=\"Completion\")\n",
    "    msg = gr.Textbox(label=\"Prompt\")\n",
    "    with gr.Accordion(label=\"Advanced options\",open=False):\n",
    "        temperature = gr.Slider(label=\"temperature\", minimum=0.1, maximum=1.0, value=0.7, step=0.1)\n",
    "        max_tokens = gr.Slider(label=\"Max tokens\", value=32, maximum=64, minimum=8, step=1)\n",
    "    btn = gr.Button(\"Submit\")\n",
    "    clear = gr.ClearButton(components=[msg, completion], value=\"Clear console\")\n",
    "\n",
    "    btn.click(respond, inputs=[msg, temperature, max_tokens], outputs=[completion])\n",
    "    msg.submit(respond, inputs=[msg, temperature, max_tokens], outputs=[completion])\n",
    "\n",
    "gr.close_all()\n",
    "demo.queue().launch(share=True)    "
   ]
  },
  {
   "cell_type": "code",
   "execution_count": null,
   "metadata": {},
   "outputs": [],
   "source": []
  }
 ],
 "metadata": {
  "kernelspec": {
   "display_name": "TFM",
   "language": "python",
   "name": "python3"
  },
  "language_info": {
   "codemirror_mode": {
    "name": "ipython",
    "version": 3
   },
   "file_extension": ".py",
   "mimetype": "text/x-python",
   "name": "python",
   "nbconvert_exporter": "python",
   "pygments_lexer": "ipython3",
   "version": "3.11.5"
  }
 },
 "nbformat": 4,
 "nbformat_minor": 2
}
