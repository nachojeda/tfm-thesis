{
 "cells": [
  {
   "cell_type": "markdown",
   "metadata": {},
   "source": [
    "## Generative AI PDF information exctractor\n",
    "This is my Master thesis project which results in an AI app to make a LLM from Open AI capable of answer specific questions about a topic. The model is able to access external data that hasn't seen during training, understand a user's question, exctract the information it needs to answer the user and return a comprehensive answer to the question formulated by the user. In the image below, there's a schema of the pipeline from user's query to final output:"
   ]
  },
  {
   "cell_type": "code",
   "execution_count": 1,
   "metadata": {},
   "outputs": [],
   "source": [
    "# pip insatall langchain\n",
    "# pip instal pypdf\n",
    "# pip install tiktoken\n",
    "# pip install faiss-cpu"
   ]
  },
  {
   "cell_type": "code",
   "execution_count": 2,
   "metadata": {},
   "outputs": [
    {
     "ename": "ImportError",
     "evalue": "pypdf package not found, please install it with `pip install pypdf`",
     "output_type": "error",
     "traceback": [
      "\u001b[1;31m---------------------------------------------------------------------------\u001b[0m",
      "\u001b[1;31mModuleNotFoundError\u001b[0m                       Traceback (most recent call last)",
      "File \u001b[1;32mc:\\Users\\Nacho\\anaconda3\\envs\\TFM\\Lib\\site-packages\\langchain\\document_loaders\\pdf.py:152\u001b[0m, in \u001b[0;36mPyPDFLoader.__init__\u001b[1;34m(self, file_path, password, headers, extract_images)\u001b[0m\n\u001b[0;32m    151\u001b[0m \u001b[39mtry\u001b[39;00m:\n\u001b[1;32m--> 152\u001b[0m     \u001b[39mimport\u001b[39;00m \u001b[39mpypdf\u001b[39;00m  \u001b[39m# noqa:F401\u001b[39;00m\n\u001b[0;32m    153\u001b[0m \u001b[39mexcept\u001b[39;00m \u001b[39mImportError\u001b[39;00m:\n",
      "\u001b[1;31mModuleNotFoundError\u001b[0m: No module named 'pypdf'",
      "\nDuring handling of the above exception, another exception occurred:\n",
      "\u001b[1;31mImportError\u001b[0m                               Traceback (most recent call last)",
      "\u001b[1;32mc:\\Users\\Nacho\\Documents\\MASTER\\TFM\\tfm-thesis\\genAI_PDF.ipynb Cell 3\u001b[0m line \u001b[0;36m5\n\u001b[0;32m      <a href='vscode-notebook-cell:/c%3A/Users/Nacho/Documents/MASTER/TFM/tfm-thesis/genAI_PDF.ipynb#W3sZmlsZQ%3D%3D?line=2'>3</a>\u001b[0m \u001b[39m# Load pdf with external info not seen during training of the LLM\u001b[39;00m\n\u001b[0;32m      <a href='vscode-notebook-cell:/c%3A/Users/Nacho/Documents/MASTER/TFM/tfm-thesis/genAI_PDF.ipynb#W3sZmlsZQ%3D%3D?line=3'>4</a>\u001b[0m \u001b[39mfrom\u001b[39;00m \u001b[39mlangchain\u001b[39;00m\u001b[39m.\u001b[39;00m\u001b[39mdocument_loaders\u001b[39;00m \u001b[39mimport\u001b[39;00m PyPDFLoader\n\u001b[1;32m----> <a href='vscode-notebook-cell:/c%3A/Users/Nacho/Documents/MASTER/TFM/tfm-thesis/genAI_PDF.ipynb#W3sZmlsZQ%3D%3D?line=4'>5</a>\u001b[0m loader \u001b[39m=\u001b[39m PyPDFLoader(pdf_path)\n\u001b[0;32m      <a href='vscode-notebook-cell:/c%3A/Users/Nacho/Documents/MASTER/TFM/tfm-thesis/genAI_PDF.ipynb#W3sZmlsZQ%3D%3D?line=5'>6</a>\u001b[0m pages \u001b[39m=\u001b[39m loader\u001b[39m.\u001b[39mload_and_split()\n",
      "File \u001b[1;32mc:\\Users\\Nacho\\anaconda3\\envs\\TFM\\Lib\\site-packages\\langchain\\document_loaders\\pdf.py:154\u001b[0m, in \u001b[0;36mPyPDFLoader.__init__\u001b[1;34m(self, file_path, password, headers, extract_images)\u001b[0m\n\u001b[0;32m    152\u001b[0m     \u001b[39mimport\u001b[39;00m \u001b[39mpypdf\u001b[39;00m  \u001b[39m# noqa:F401\u001b[39;00m\n\u001b[0;32m    153\u001b[0m \u001b[39mexcept\u001b[39;00m \u001b[39mImportError\u001b[39;00m:\n\u001b[1;32m--> 154\u001b[0m     \u001b[39mraise\u001b[39;00m \u001b[39mImportError\u001b[39;00m(\n\u001b[0;32m    155\u001b[0m         \u001b[39m\"\u001b[39m\u001b[39mpypdf package not found, please install it with \u001b[39m\u001b[39m\"\u001b[39m \u001b[39m\"\u001b[39m\u001b[39m`pip install pypdf`\u001b[39m\u001b[39m\"\u001b[39m\n\u001b[0;32m    156\u001b[0m     )\n\u001b[0;32m    157\u001b[0m \u001b[39msuper\u001b[39m()\u001b[39m.\u001b[39m\u001b[39m__init__\u001b[39m(file_path, headers\u001b[39m=\u001b[39mheaders)\n\u001b[0;32m    158\u001b[0m \u001b[39mself\u001b[39m\u001b[39m.\u001b[39mparser \u001b[39m=\u001b[39m PyPDFParser(password\u001b[39m=\u001b[39mpassword, extract_images\u001b[39m=\u001b[39mextract_images)\n",
      "\u001b[1;31mImportError\u001b[0m: pypdf package not found, please install it with `pip install pypdf`"
     ]
    }
   ],
   "source": [
    "pdf_path = \"C:/Users/Nacho/Documents/MASTER/TFM/1-Pruebas_piloto/External data/BOE-034_Codigo_Civil_y_legislacion_complementaria.pdf\"\n",
    "\n",
    "# Load pdf with external info not seen during training of the LLM\n",
    "from langchain.document_loaders import PyPDFLoader\n",
    "loader = PyPDFLoader(pdf_path)\n",
    "pages = loader.load_and_split()"
   ]
  },
  {
   "cell_type": "code",
   "execution_count": null,
   "metadata": {},
   "outputs": [],
   "source": [
    "# Generate vector space represetnation with words from the external data\n",
    "from langchain.embeddings import OpenAIEmbeddings\n",
    "embeddings = OpenAIEmbeddings()"
   ]
  },
  {
   "cell_type": "code",
   "execution_count": null,
   "metadata": {},
   "outputs": [],
   "source": [
    "# Load embeddings in vector database\n",
    "from langchain.vectorstores import FAISS\n",
    "db = FAISS.from_documents(pages, embeddings)\n",
    "\n",
    "# q = \"What is Link's traditional outfit color?\"\n",
    "# db.similarity_search(q)[0]"
   ]
  },
  {
   "cell_type": "code",
   "execution_count": null,
   "metadata": {},
   "outputs": [],
   "source": [
    "# Use information retrieval from embedding for answer\n",
    "from langchain.chains import RetrievalQA\n",
    "from langchain import OpenAI\n",
    "llm = OpenAI()\n",
    "chain = RetrievalQA.from_llm(llm=llm, retriever=db.as_retriever())\n",
    "q = \"What is Link's traditional outfit color?\"\n",
    "chain(q, return_only_outputs=True)"
   ]
  }
 ],
 "metadata": {
  "kernelspec": {
   "display_name": "TFM",
   "language": "python",
   "name": "python3"
  },
  "language_info": {
   "codemirror_mode": {
    "name": "ipython",
    "version": 3
   },
   "file_extension": ".py",
   "mimetype": "text/x-python",
   "name": "python",
   "nbconvert_exporter": "python",
   "pygments_lexer": "ipython3",
   "version": "3.11.5"
  }
 },
 "nbformat": 4,
 "nbformat_minor": 2
}
