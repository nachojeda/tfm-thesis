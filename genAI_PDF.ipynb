{
 "cells": [
  {
   "cell_type": "markdown",
   "metadata": {},
   "source": [
    "## Generative AI PDF information exctractor\n",
    "This is my Master thesis project which results in an AI app to make a LLM from Open AI capable of answer specific questions about a topic. The model is able to access external data that hasn't seen during training, understand a user's question, exctract the information it needs to answer the user and return a comprehensive answer to the question formulated by the user. In the image below, there's a schema of the pipeline from user's query to final output:"
   ]
  },
  {
   "cell_type": "code",
   "execution_count": 6,
   "metadata": {},
   "outputs": [],
   "source": [
    "# pip install python-dotenv\n",
    "# pip insatall langchain\n",
    "# pip instal pypdf\n",
    "# pip install tiktoken\n",
    "# pip install faiss-cpu"
   ]
  },
  {
   "cell_type": "code",
   "execution_count": 10,
   "metadata": {},
   "outputs": [
    {
     "data": {
      "text/plain": [
       "True"
      ]
     },
     "execution_count": 10,
     "metadata": {},
     "output_type": "execute_result"
    }
   ],
   "source": [
    "from dotenv import load_dotenv\n",
    "import os\n",
    "\n",
    "load_dotenv(\"apis.env\")\n",
    "# openai_api_key=os.getenv('OPENAI_API_KEY')"
   ]
  },
  {
   "cell_type": "code",
   "execution_count": 24,
   "metadata": {},
   "outputs": [],
   "source": [
    "# pdf_path = \"C:/Users/Nacho/Documents/MASTER/TFM/databases/pdfs/BOE-034_Codigo_Civil_y_legislacion_complementaria.pdf\"\n",
    "pdf_path = \"C:/Users/Nacho/Documents/MASTER/TFM/databases/pdfs/COMMANDER RULES.pdf\"\n",
    "\n",
    "# Load pdf with external info not seen during training of the LLM\n",
    "# from langchain.document_loaders import PyPDFLoader\n",
    "# loader = PyPDFLoader(pdf_path)\n",
    "# pages = loader.load_and_split()\n",
    "\n",
    "# # Connect your Google Drive\n",
    "# from google.colab import drive\n",
    "# drive.mount('/content/gdrive', force_remount=True)\n",
    "# root_dir = \"/content/gdrive/My Drive/\"\n",
    "\n",
    "from PyPDF2 import PdfReader\n",
    "reader = PdfReader(pdf_path)\n"
   ]
  },
  {
   "cell_type": "code",
   "execution_count": 25,
   "metadata": {},
   "outputs": [],
   "source": [
    "# Read data from the file and put them into a variable called raw_text\n",
    "raw_text = ''\n",
    "for i, page in enumerate(reader.pages):\n",
    "    text = page.extract_text()\n",
    "    if text:\n",
    "        raw_text += text"
   ]
  },
  {
   "cell_type": "code",
   "execution_count": 26,
   "metadata": {},
   "outputs": [
    {
     "data": {
      "text/plain": [
       "'COMMANDER RULES  \\nPhilosophy  \\nBefore reading the rules below, please read  the philosophy  of comma'"
      ]
     },
     "execution_count": 26,
     "metadata": {},
     "output_type": "execute_result"
    }
   ],
   "source": [
    "raw_text[:100]"
   ]
  },
  {
   "cell_type": "code",
   "execution_count": 27,
   "metadata": {},
   "outputs": [],
   "source": [
    "from langchain.text_splitter import CharacterTextSplitter\n",
    "\n",
    "# We need to split the text that we read into smaller chunks so that during information retreival we don't hit the token size limits. \n",
    "text_splitter = CharacterTextSplitter(        \n",
    "    separator = \"\\n\",\n",
    "    chunk_size = 1000,\n",
    "    chunk_overlap  = 200,\n",
    "    length_function = len,\n",
    ")\n",
    "texts = text_splitter.split_text(raw_text)"
   ]
  },
  {
   "cell_type": "code",
   "execution_count": 28,
   "metadata": {},
   "outputs": [
    {
     "data": {
      "text/plain": [
       "3"
      ]
     },
     "execution_count": 28,
     "metadata": {},
     "output_type": "execute_result"
    }
   ],
   "source": [
    "len(texts)"
   ]
  },
  {
   "cell_type": "code",
   "execution_count": 29,
   "metadata": {},
   "outputs": [
    {
     "data": {
      "text/plain": [
       "'COMMANDER RULES  \\nPhilosophy  \\nBefore reading the rules below, please read  the philosophy  of commander ; simply \\nfollowing the rules is not sufficient to ensure a good play experience.  \\nDeck Construction Rules  \\n1. Players choose a legendary creature as the  commander  for their deck.   \\n2. A card’s  color  identity  is its color plus the color of any mana symbols in \\nthe card’s rules text. A card’s color identity is established before the \\ngame begins, and cannot be changed by game effects. The cards in a deck \\nmay not have any colors in their color identity which are no t in the color \\nidentity of the deck’s commander.  \\n3. A Commander deck must contain exactly 100 cards, including the \\ncommander. If you’re playing a companion, it must adhere to color \\nidentity and singleton rules. While it is not part of the deck, it is \\neffectively a 101st card.  \\n4. With the exception of basic lands, no two cards in the deck may have the'"
      ]
     },
     "execution_count": 29,
     "metadata": {},
     "output_type": "execute_result"
    }
   ],
   "source": [
    "texts[0]"
   ]
  },
  {
   "cell_type": "code",
   "execution_count": 8,
   "metadata": {},
   "outputs": [],
   "source": [
    "# Generate vector space representation with words from the external data\n",
    "from langchain.embeddings import OpenAIEmbeddings\n",
    "embeddings = OpenAIEmbeddings()"
   ]
  },
  {
   "cell_type": "code",
   "execution_count": 36,
   "metadata": {},
   "outputs": [],
   "source": [
    "# Load embeddings in vector database\n",
    "from langchain.vectorstores import FAISS\n",
    "# db = FAISS.from_documents(pages, embeddings)\n",
    "db = FAISS.from_texts(texts, embeddings)\n",
    "\n",
    "# from langchain.vectorstores import Chroma\n",
    "# db = Chroma.from_documents(pages, embeddings)\n",
    "# db = Chroma.from_texts(texts, embeddings)\n",
    "\n",
    "# q = \"What is Link's traditional outfit color?\"\n",
    "# db.similarity_search(q)[0]"
   ]
  },
  {
   "cell_type": "code",
   "execution_count": 37,
   "metadata": {},
   "outputs": [],
   "source": [
    "# Use information retrieval from embedding for answer\n",
    "from langchain.chains import RetrievalQA\n",
    "from langchain import OpenAI\n",
    "from langchain.chains.question_answering import load_qa_chain\n",
    "\n",
    "llm = OpenAI()\n",
    "# chain = RetrievalQA.from_llm(llm=llm, retriever=db.as_retriever())\n",
    "# q = \"Qué sabes\"\n",
    "# chain(q, return_only_outputs=True)\n",
    "\n",
    "chain = load_qa_chain(llm, chain_type=\"stuff\")"
   ]
  },
  {
   "cell_type": "code",
   "execution_count": 41,
   "metadata": {},
   "outputs": [
    {
     "data": {
      "text/plain": [
       "' The commander must be a legendary creature, and its color identity must match that of the deck, with no more than one card of the same name in the deck.'"
      ]
     },
     "execution_count": 41,
     "metadata": {},
     "output_type": "execute_result"
    }
   ],
   "source": [
    "query = \"What are the restrictions for a card to be the commander?\"\n",
    "docs = db.similarity_search(query)\n",
    "chain.run(input_documents=docs, question=query)"
   ]
  }
 ],
 "metadata": {
  "kernelspec": {
   "display_name": "TFM",
   "language": "python",
   "name": "python3"
  },
  "language_info": {
   "codemirror_mode": {
    "name": "ipython",
    "version": 3
   },
   "file_extension": ".py",
   "mimetype": "text/x-python",
   "name": "python",
   "nbconvert_exporter": "python",
   "pygments_lexer": "ipython3",
   "version": "3.11.5"
  }
 },
 "nbformat": 4,
 "nbformat_minor": 2
}
