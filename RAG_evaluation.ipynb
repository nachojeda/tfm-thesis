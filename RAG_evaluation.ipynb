{
 "cells": [
  {
   "cell_type": "markdown",
   "metadata": {},
   "source": [
    "# RAG app Evaluation\n",
    "In this use case it is shown how to extract information from a PDF file through LLM queries with RAG (Retrieval Augmented Generation) technology. For this use case is necessary the use of OpenAI embeddings and model API calls. To show the final result, the model is embedded on a Gradio UI. In this version it would be used Llama Index as vector databse.\n",
    "\n",
    "In this notebook, it will be conducted an evaluation on the v4 version of the RAG system. This evaluation will consist on evaluating the following concepts:\n",
    "\n",
    "* Answer relevance\n",
    "* Context Relevance\n",
    "* Groundedness\n",
    "\n",
    "For this evaluation, a set of evaluation questions has been selected in order to make the system align with RAG system purposes. Along eith these questions, several possible reasons that cover different topics a  should cover to improve answers and value in them. "
   ]
  },
  {
   "cell_type": "markdown",
   "metadata": {},
   "source": [
    "## Model Evalutation using Llama Index"
   ]
  },
  {
   "cell_type": "code",
   "execution_count": 1,
   "metadata": {},
   "outputs": [],
   "source": [
    "# Env keys library\n",
    "from dotenv import load_dotenv\n",
    "\n",
    "# Standard RAG libraries\n",
    "from llama_index import SimpleDirectoryReader\n",
    "from llama_index import Document\n",
    "from llama_index import VectorStoreIndex\n",
    "from llama_index import ServiceContext\n",
    "from llama_index.llms import OpenAI\n",
    "from llama_index.embeddings import OpenAIEmbedding\n",
    "\n",
    "# Advanced RAG libraries\n",
    "from llama_index import ServiceContext, VectorStoreIndex, StorageContext\n",
    "from llama_index.node_parser import SentenceWindowNodeParser\n",
    "from llama_index.indices.postprocessor import MetadataReplacementPostProcessor\n",
    "from llama_index.indices.postprocessor import SentenceTransformerRerank\n",
    "from llama_index import load_index_from_storage\n",
    "\n",
    "# Common libraries\n",
    "import pandas as pd\n",
    "import os\n",
    "\n",
    "# Set env keys and global variables\n",
    "load_dotenv(\"apis.env\")\n",
    "\n",
    "# Select pdf with text\n",
    "pdf = \"./attention-is-all-you-need.pdf\"\n",
    "\n",
    "# Configure LLM hyperparameters\n",
    "temperature = 0"
   ]
  },
  {
   "cell_type": "markdown",
   "metadata": {},
   "source": [
    "### Evaluation set loading & Tru Object Instance"
   ]
  },
  {
   "cell_type": "code",
   "execution_count": 2,
   "metadata": {},
   "outputs": [
    {
     "name": "stdout",
     "output_type": "stream",
     "text": [
      "🦑 Tru initialized with db url sqlite:///default.sqlite .\n",
      "🛑 Secret keys may be written to the database. See the `database_redact_keys` option of `Tru` to prevent this.\n"
     ]
    }
   ],
   "source": [
    "eval_questions = []\n",
    "with open('eval_questions.txt', 'r') as file:\n",
    "    for line in file:\n",
    "        # Remove newline character and convert to integer\n",
    "        item = line.strip()\n",
    "        # print(item)\n",
    "        eval_questions.append(item)\n",
    "\n",
    "# Instanciate Tru object\n",
    "from trulens_eval import Tru\n",
    "tru = Tru()\n",
    "\n",
    "# Initiate Tru app\n",
    "tru.reset_database()"
   ]
  },
  {
   "cell_type": "markdown",
   "metadata": {},
   "source": [
    "### 1 - Standard RAG"
   ]
  },
  {
   "cell_type": "code",
   "execution_count": 3,
   "metadata": {},
   "outputs": [],
   "source": [
    "def evaluation_responses(pdf, temperature):\n",
    "    documents = SimpleDirectoryReader(\n",
    "        input_files=[pdf]\n",
    "    ).load_data()\n",
    "    document = Document(text=\"\\n\\n\".join([doc.text for doc in documents]))\n",
    "    # embed_model = OpenAIEmbedding(model=\"text-embedding-ada-002\", embed_batch_size=10)\n",
    "    embed_model = \"local:BAAI/bge-small-en-v1.5\"\n",
    "    llm = OpenAI(model=\"gpt-3.5-turbo\", temperature=temperature)#streaming=True)\n",
    "    \n",
    "    service_context = ServiceContext.from_defaults(\n",
    "        llm=llm, embed_model=embed_model\n",
    "    )\n",
    "    index = VectorStoreIndex.from_documents([document],\n",
    "                                        service_context=service_context)\n",
    "    query_engine = index.as_query_engine()\n",
    "    # response = query_engine.query(msg)\n",
    "    return query_engine\n",
    "\n",
    "query_engine = evaluation_responses(pdf, temperature=temperature)#, max_tokens=max_tokens"
   ]
  },
  {
   "cell_type": "markdown",
   "metadata": {},
   "source": [
    "#### 1.1 - RAG Triad Feedback"
   ]
  },
  {
   "cell_type": "code",
   "execution_count": 4,
   "metadata": {},
   "outputs": [
    {
     "name": "stdout",
     "output_type": "stream",
     "text": [
      "✅ In Answer Relevance, input prompt will be set to __record__.main_input or `Select.RecordInput` .\n",
      "✅ In Answer Relevance, input response will be set to __record__.main_output or `Select.RecordOutput` .\n",
      "✅ In Context Relevance, input prompt will be set to __record__.main_input or `Select.RecordInput` .\n",
      "✅ In Context Relevance, input response will be set to __record__.app.query.rets.source_nodes[:].node.text .\n",
      "✅ In Groundedness, input source will be set to __record__.app.query.rets.source_nodes[:].node.text .\n",
      "✅ In Groundedness, input statement will be set to __record__.main_output or `Select.RecordOutput` .\n"
     ]
    }
   ],
   "source": [
    "from trulens_eval import (\n",
    "    Feedback,\n",
    "    TruLlama,\n",
    "    OpenAI\n",
    ")\n",
    "from trulens_eval.feedback import Groundedness\n",
    "import numpy as np\n",
    "\n",
    "openai = OpenAI()\n",
    "\n",
    "qa_relevance = (\n",
    "    Feedback(openai.relevance_with_cot_reasons, name=\"Answer Relevance\")\n",
    "    .on_input_output()\n",
    ")\n",
    "\n",
    "qs_relevance = (\n",
    "    Feedback(openai.relevance_with_cot_reasons, name = \"Context Relevance\")\n",
    "    .on_input()\n",
    "    .on(TruLlama.select_source_nodes().node.text)\n",
    "    .aggregate(np.mean)\n",
    ")\n",
    "\n",
    "grounded = Groundedness(groundedness_provider=openai)\n",
    "\n",
    "groundedness = (\n",
    "    Feedback(grounded.groundedness_measure_with_cot_reasons, name=\"Groundedness\")\n",
    "        .on(TruLlama.select_source_nodes().node.text)\n",
    "        .on_output()\n",
    "        .aggregate(grounded.grounded_statements_aggregator)\n",
    ")\n",
    "\n",
    "feedbacks = [qa_relevance, qs_relevance, groundedness]\n",
    "\n",
    "def get_prebuilt_trulens_recorder(query_engine, app_id):\n",
    "    tru_recorder = TruLlama(\n",
    "        query_engine,\n",
    "        app_id=app_id,\n",
    "        feedbacks=feedbacks\n",
    "        )\n",
    "    return tru_recorder"
   ]
  },
  {
   "cell_type": "code",
   "execution_count": 5,
   "metadata": {},
   "outputs": [],
   "source": [
    "# Standard RAG Pipeline\n",
    "tru_recorder = get_prebuilt_trulens_recorder(query_engine,\n",
    "                                             app_id=\"Standard RAG\")"
   ]
  },
  {
   "cell_type": "code",
   "execution_count": 6,
   "metadata": {},
   "outputs": [
    {
     "name": "stdout",
     "output_type": "stream",
     "text": [
      "✅ What is the main theme or topic of this document?\n",
      "✅ Can you summarize the key points made in this document?\n",
      "✅ What are the primary arguments or claims presented?\n",
      "✅ Are there any notable facts or figures mentioned? If so, what are they?\n",
      "✅ Can you provide an example or case study mentioned in the document?\n",
      "✅ What conclusions are drawn in this document?\n",
      "✅ Are there any contradictions or points of debate within the document?\n",
      "✅ What background or contextual information is provided?\n",
      "✅ What are the limitations or gaps identified in the document?\n",
      "✅ What recommendations or next steps does the document propose?\n"
     ]
    }
   ],
   "source": [
    "# Evaluate standard RAG version with questions\n",
    "emo = \"\\U00002705\"\n",
    "with tru_recorder as recording:\n",
    "    for question in eval_questions:\n",
    "        response = query_engine.query(question)\n",
    "        print(emo+\" \"+question)"
   ]
  },
  {
   "cell_type": "code",
   "execution_count": 7,
   "metadata": {},
   "outputs": [],
   "source": [
    "# Extract results of evaluation\n",
    "records, feedback = tru.get_records_and_feedback(app_ids=[])"
   ]
  },
  {
   "cell_type": "code",
   "execution_count": 8,
   "metadata": {},
   "outputs": [],
   "source": [
    "# Vizualize evaluation results on each concept\n",
    "# tru.run_dashboard()"
   ]
  },
  {
   "cell_type": "code",
   "execution_count": 9,
   "metadata": {},
   "outputs": [],
   "source": [
    "# tru.stop_dashboard()"
   ]
  },
  {
   "cell_type": "markdown",
   "metadata": {},
   "source": [
    "## Advanced RAG"
   ]
  },
  {
   "cell_type": "markdown",
   "metadata": {},
   "source": [
    "#### Setup functions"
   ]
  },
  {
   "cell_type": "code",
   "execution_count": 10,
   "metadata": {},
   "outputs": [],
   "source": [
    "def build_sentence_window_index(\n",
    "    documents,\n",
    "    llm,\n",
    "    embed_model=\"local:BAAI/bge-small-en-v1.5\",\n",
    "    sentence_window_size=3,\n",
    "    save_dir=\"sentence_index\",\n",
    "):\n",
    "    documents = SimpleDirectoryReader(\n",
    "        input_files=[pdf]\n",
    "    ).load_data()\n",
    "    document = Document(text=\"\\n\\n\".join([doc.text for doc in documents]))\n",
    "\n",
    "    # Create the sentence window node parser w/ default settings\n",
    "    node_parser = SentenceWindowNodeParser.from_defaults(\n",
    "        window_size=sentence_window_size,\n",
    "        window_metadata_key=\"window\",\n",
    "        original_text_metadata_key=\"original_text\",\n",
    "    )\n",
    "    sentence_context = ServiceContext.from_defaults(\n",
    "        llm=llm,\n",
    "        embed_model=embed_model,\n",
    "        node_parser=node_parser,\n",
    "    )\n",
    "    if not os.path.exists(save_dir):\n",
    "        sentence_index = VectorStoreIndex.from_documents(\n",
    "            [document], service_context=sentence_context\n",
    "        )\n",
    "        sentence_index.storage_context.persist(persist_dir=save_dir)\n",
    "    else:\n",
    "        sentence_index = load_index_from_storage(\n",
    "            StorageContext.from_defaults(persist_dir=save_dir),\n",
    "            service_context=sentence_context,\n",
    "        )\n",
    "\n",
    "    return sentence_index\n",
    "\n",
    "\n",
    "def get_sentence_window_query_engine(\n",
    "    sentence_index, similarity_top_k=6, rerank_top_n=2\n",
    "):\n",
    "    # Define postprocessors\n",
    "    postproc = MetadataReplacementPostProcessor(target_metadata_key=\"window\")\n",
    "    rerank = SentenceTransformerRerank(\n",
    "        top_n=rerank_top_n, model=\"BAAI/bge-reranker-base\"\n",
    "    )\n",
    "\n",
    "    sentence_window_engine = sentence_index.as_query_engine(\n",
    "        similarity_top_k=similarity_top_k, node_postprocessors=[postproc, rerank]\n",
    "    )\n",
    "    return sentence_window_engine\n",
    "\n",
    "def run_evals(eval_questions, tru_recorder, query_engine):\n",
    "    emo = \"\\U00002705\"\n",
    "    for question in eval_questions:\n",
    "        with tru_recorder as recording:\n",
    "            response = query_engine.query(question)\n",
    "            print(emo+\" \"+question)"
   ]
  },
  {
   "cell_type": "markdown",
   "metadata": {},
   "source": [
    "### 2 - Sentence Window s=1"
   ]
  },
  {
   "cell_type": "code",
   "execution_count": 11,
   "metadata": {},
   "outputs": [
    {
     "name": "stdout",
     "output_type": "stream",
     "text": [
      "✅ What is the main theme or topic of this document?\n",
      "✅ Can you summarize the key points made in this document?\n",
      "✅ What are the primary arguments or claims presented?\n",
      "✅ Are there any notable facts or figures mentioned? If so, what are they?\n",
      "✅ Can you provide an example or case study mentioned in the document?\n",
      "✅ What conclusions are drawn in this document?\n",
      "✅ Are there any contradictions or points of debate within the document?\n",
      "✅ What background or contextual information is provided?\n",
      "✅ What are the limitations or gaps identified in the document?\n",
      "✅ What recommendations or next steps does the document propose?\n"
     ]
    }
   ],
   "source": [
    "from llama_index.llms import OpenAI\n",
    "\n",
    "sentence_index_1 = build_sentence_window_index(\n",
    "    pdf,\n",
    "    llm=OpenAI(model=\"gpt-3.5-turbo\", temperature=0),\n",
    "    embed_model=\"local:BAAI/bge-small-en-v1.5\",\n",
    "    sentence_window_size=1,\n",
    "    save_dir=\"sentence_index_1\",\n",
    ")\n",
    "\n",
    "sentence_window_engine_1 = get_sentence_window_query_engine(\n",
    "    sentence_index_1\n",
    ")\n",
    "\n",
    "tru_recorder_1 = get_prebuilt_trulens_recorder(\n",
    "    sentence_window_engine_1,\n",
    "    app_id='Sentence Window s=1'\n",
    ")\n",
    "\n",
    "run_evals(eval_questions, tru_recorder_1, sentence_window_engine_1)"
   ]
  },
  {
   "cell_type": "markdown",
   "metadata": {},
   "source": [
    "### 3 - Sentence Window s=2"
   ]
  },
  {
   "cell_type": "code",
   "execution_count": 12,
   "metadata": {},
   "outputs": [
    {
     "name": "stderr",
     "output_type": "stream",
     "text": [
      "A new object of type <class 'llama_index.query_engine.retriever_query_engine.RetrieverQueryEngine'> at 0x1b557257050 is calling an instrumented method <function BaseQueryEngine.query at 0x000001B5371F1580>. The path of this call may be incorrect.\n",
      "Guessing path of new object is app based on other object (0x1b54d543a50) using this function.\n",
      "A new object of type <class 'llama_index.query_engine.retriever_query_engine.RetrieverQueryEngine'> at 0x1b557257050 is calling an instrumented method <function RetrieverQueryEngine.retrieve at 0x000001B5390C5620>. The path of this call may be incorrect.\n",
      "Guessing path of new object is app based on other object (0x1b54d543a50) using this function.\n",
      "A new object of type <class 'llama_index.indices.vector_store.retrievers.retriever.VectorIndexRetriever'> at 0x1b557256f10 is calling an instrumented method <function BaseRetriever.retrieve at 0x000001B5371F04A0>. The path of this call may be incorrect.\n",
      "Guessing path of new object is app.retriever based on other object (0x1b54d543b50) using this function.\n",
      "A new object of type <class 'llama_index.vector_stores.simple.SimpleVectorStore'> at 0x1b55723c0d0 is calling an instrumented method <function SimpleVectorStore.query at 0x000001B5373676A0>. The path of this call may be incorrect.\n",
      "Guessing path of new object is app.retriever._index.vector_store based on other object (0x1b54acda8d0) using this function.\n",
      "A new object of type <class 'llama_index.response_synthesizers.compact_and_refine.CompactAndRefine'> at 0x1b557256f50 is calling an instrumented method <function BaseSynthesizer.synthesize at 0x000001B53722BE20>. The path of this call may be incorrect.\n",
      "Guessing path of new object is app._response_synthesizer based on other object (0x1b54d543a90) using this function.\n",
      "A new object of type <class 'llama_index.response_synthesizers.compact_and_refine.CompactAndRefine'> at 0x1b557256f50 is calling an instrumented method <function CompactAndRefine.get_response at 0x000001B53725C5E0>. The path of this call may be incorrect.\n",
      "Guessing path of new object is app._response_synthesizer based on other object (0x1b54d543a90) using this function.\n",
      "A new object of type <class 'llama_index.response_synthesizers.compact_and_refine.CompactAndRefine'> at 0x1b557256f50 is calling an instrumented method <function Refine.get_response at 0x000001B537B57E20>. The path of this call may be incorrect.\n",
      "Guessing path of new object is app._response_synthesizer based on other object (0x1b54d543a90) using this function.\n"
     ]
    },
    {
     "name": "stdout",
     "output_type": "stream",
     "text": [
      "✅ What is the main theme or topic of this document?\n"
     ]
    },
    {
     "name": "stderr",
     "output_type": "stream",
     "text": [
      "A new object of type <class 'llama_index.query_engine.retriever_query_engine.RetrieverQueryEngine'> at 0x1b557257050 is calling an instrumented method <function RetrieverQueryEngine.retrieve at 0x000001B5390C5620>. The path of this call may be incorrect.\n",
      "Guessing path of new object is app based on other object (0x1b54d543a50) using this function.\n",
      "A new object of type <class 'llama_index.response_synthesizers.compact_and_refine.CompactAndRefine'> at 0x1b557256f50 is calling an instrumented method <function CompactAndRefine.get_response at 0x000001B53725C5E0>. The path of this call may be incorrect.\n",
      "Guessing path of new object is app._response_synthesizer based on other object (0x1b54d543a90) using this function.\n",
      "A new object of type <class 'llama_index.response_synthesizers.compact_and_refine.CompactAndRefine'> at 0x1b557256f50 is calling an instrumented method <function Refine.get_response at 0x000001B537B57E20>. The path of this call may be incorrect.\n",
      "Guessing path of new object is app._response_synthesizer based on other object (0x1b54d543a90) using this function.\n"
     ]
    },
    {
     "name": "stdout",
     "output_type": "stream",
     "text": [
      "✅ Can you summarize the key points made in this document?\n"
     ]
    },
    {
     "name": "stderr",
     "output_type": "stream",
     "text": [
      "A new object of type <class 'llama_index.query_engine.retriever_query_engine.RetrieverQueryEngine'> at 0x1b557257050 is calling an instrumented method <function RetrieverQueryEngine.retrieve at 0x000001B5390C5620>. The path of this call may be incorrect.\n",
      "Guessing path of new object is app based on other object (0x1b54d543a50) using this function.\n",
      "A new object of type <class 'llama_index.response_synthesizers.compact_and_refine.CompactAndRefine'> at 0x1b557256f50 is calling an instrumented method <function CompactAndRefine.get_response at 0x000001B53725C5E0>. The path of this call may be incorrect.\n",
      "Guessing path of new object is app._response_synthesizer based on other object (0x1b54d543a90) using this function.\n",
      "A new object of type <class 'llama_index.response_synthesizers.compact_and_refine.CompactAndRefine'> at 0x1b557256f50 is calling an instrumented method <function Refine.get_response at 0x000001B537B57E20>. The path of this call may be incorrect.\n",
      "Guessing path of new object is app._response_synthesizer based on other object (0x1b54d543a90) using this function.\n"
     ]
    },
    {
     "name": "stdout",
     "output_type": "stream",
     "text": [
      "✅ What are the primary arguments or claims presented?\n"
     ]
    },
    {
     "name": "stderr",
     "output_type": "stream",
     "text": [
      "A new object of type <class 'llama_index.query_engine.retriever_query_engine.RetrieverQueryEngine'> at 0x1b557257050 is calling an instrumented method <function RetrieverQueryEngine.retrieve at 0x000001B5390C5620>. The path of this call may be incorrect.\n",
      "Guessing path of new object is app based on other object (0x1b54d543a50) using this function.\n",
      "A new object of type <class 'llama_index.response_synthesizers.compact_and_refine.CompactAndRefine'> at 0x1b557256f50 is calling an instrumented method <function CompactAndRefine.get_response at 0x000001B53725C5E0>. The path of this call may be incorrect.\n",
      "Guessing path of new object is app._response_synthesizer based on other object (0x1b54d543a90) using this function.\n",
      "A new object of type <class 'llama_index.response_synthesizers.compact_and_refine.CompactAndRefine'> at 0x1b557256f50 is calling an instrumented method <function Refine.get_response at 0x000001B537B57E20>. The path of this call may be incorrect.\n",
      "Guessing path of new object is app._response_synthesizer based on other object (0x1b54d543a90) using this function.\n"
     ]
    },
    {
     "name": "stdout",
     "output_type": "stream",
     "text": [
      "✅ Are there any notable facts or figures mentioned? If so, what are they?\n"
     ]
    },
    {
     "name": "stderr",
     "output_type": "stream",
     "text": [
      "A new object of type <class 'llama_index.query_engine.retriever_query_engine.RetrieverQueryEngine'> at 0x1b557257050 is calling an instrumented method <function RetrieverQueryEngine.retrieve at 0x000001B5390C5620>. The path of this call may be incorrect.\n",
      "Guessing path of new object is app based on other object (0x1b54d543a50) using this function.\n",
      "A new object of type <class 'llama_index.response_synthesizers.compact_and_refine.CompactAndRefine'> at 0x1b557256f50 is calling an instrumented method <function CompactAndRefine.get_response at 0x000001B53725C5E0>. The path of this call may be incorrect.\n",
      "Guessing path of new object is app._response_synthesizer based on other object (0x1b54d543a90) using this function.\n",
      "A new object of type <class 'llama_index.response_synthesizers.compact_and_refine.CompactAndRefine'> at 0x1b557256f50 is calling an instrumented method <function Refine.get_response at 0x000001B537B57E20>. The path of this call may be incorrect.\n",
      "Guessing path of new object is app._response_synthesizer based on other object (0x1b54d543a90) using this function.\n"
     ]
    },
    {
     "name": "stdout",
     "output_type": "stream",
     "text": [
      "✅ Can you provide an example or case study mentioned in the document?\n"
     ]
    },
    {
     "name": "stderr",
     "output_type": "stream",
     "text": [
      "A new object of type <class 'llama_index.query_engine.retriever_query_engine.RetrieverQueryEngine'> at 0x1b557257050 is calling an instrumented method <function RetrieverQueryEngine.retrieve at 0x000001B5390C5620>. The path of this call may be incorrect.\n",
      "Guessing path of new object is app based on other object (0x1b54d543a50) using this function.\n",
      "A new object of type <class 'llama_index.response_synthesizers.compact_and_refine.CompactAndRefine'> at 0x1b557256f50 is calling an instrumented method <function CompactAndRefine.get_response at 0x000001B53725C5E0>. The path of this call may be incorrect.\n",
      "Guessing path of new object is app._response_synthesizer based on other object (0x1b54d543a90) using this function.\n",
      "A new object of type <class 'llama_index.response_synthesizers.compact_and_refine.CompactAndRefine'> at 0x1b557256f50 is calling an instrumented method <function Refine.get_response at 0x000001B537B57E20>. The path of this call may be incorrect.\n",
      "Guessing path of new object is app._response_synthesizer based on other object (0x1b54d543a90) using this function.\n"
     ]
    },
    {
     "name": "stdout",
     "output_type": "stream",
     "text": [
      "✅ What conclusions are drawn in this document?\n"
     ]
    },
    {
     "name": "stderr",
     "output_type": "stream",
     "text": [
      "A new object of type <class 'llama_index.query_engine.retriever_query_engine.RetrieverQueryEngine'> at 0x1b557257050 is calling an instrumented method <function RetrieverQueryEngine.retrieve at 0x000001B5390C5620>. The path of this call may be incorrect.\n",
      "Guessing path of new object is app based on other object (0x1b54d543a50) using this function.\n",
      "A new object of type <class 'llama_index.response_synthesizers.compact_and_refine.CompactAndRefine'> at 0x1b557256f50 is calling an instrumented method <function CompactAndRefine.get_response at 0x000001B53725C5E0>. The path of this call may be incorrect.\n",
      "Guessing path of new object is app._response_synthesizer based on other object (0x1b54d543a90) using this function.\n",
      "A new object of type <class 'llama_index.response_synthesizers.compact_and_refine.CompactAndRefine'> at 0x1b557256f50 is calling an instrumented method <function Refine.get_response at 0x000001B537B57E20>. The path of this call may be incorrect.\n",
      "Guessing path of new object is app._response_synthesizer based on other object (0x1b54d543a90) using this function.\n"
     ]
    },
    {
     "name": "stdout",
     "output_type": "stream",
     "text": [
      "✅ Are there any contradictions or points of debate within the document?\n"
     ]
    },
    {
     "name": "stderr",
     "output_type": "stream",
     "text": [
      "A new object of type <class 'llama_index.query_engine.retriever_query_engine.RetrieverQueryEngine'> at 0x1b557257050 is calling an instrumented method <function RetrieverQueryEngine.retrieve at 0x000001B5390C5620>. The path of this call may be incorrect.\n",
      "Guessing path of new object is app based on other object (0x1b54d543a50) using this function.\n",
      "A new object of type <class 'llama_index.response_synthesizers.compact_and_refine.CompactAndRefine'> at 0x1b557256f50 is calling an instrumented method <function CompactAndRefine.get_response at 0x000001B53725C5E0>. The path of this call may be incorrect.\n",
      "Guessing path of new object is app._response_synthesizer based on other object (0x1b54d543a90) using this function.\n",
      "A new object of type <class 'llama_index.response_synthesizers.compact_and_refine.CompactAndRefine'> at 0x1b557256f50 is calling an instrumented method <function Refine.get_response at 0x000001B537B57E20>. The path of this call may be incorrect.\n",
      "Guessing path of new object is app._response_synthesizer based on other object (0x1b54d543a90) using this function.\n"
     ]
    },
    {
     "name": "stdout",
     "output_type": "stream",
     "text": [
      "✅ What background or contextual information is provided?\n"
     ]
    },
    {
     "name": "stderr",
     "output_type": "stream",
     "text": [
      "A new object of type <class 'llama_index.query_engine.retriever_query_engine.RetrieverQueryEngine'> at 0x1b557257050 is calling an instrumented method <function RetrieverQueryEngine.retrieve at 0x000001B5390C5620>. The path of this call may be incorrect.\n",
      "Guessing path of new object is app based on other object (0x1b54d543a50) using this function.\n",
      "A new object of type <class 'llama_index.response_synthesizers.compact_and_refine.CompactAndRefine'> at 0x1b557256f50 is calling an instrumented method <function CompactAndRefine.get_response at 0x000001B53725C5E0>. The path of this call may be incorrect.\n",
      "Guessing path of new object is app._response_synthesizer based on other object (0x1b54d543a90) using this function.\n",
      "A new object of type <class 'llama_index.response_synthesizers.compact_and_refine.CompactAndRefine'> at 0x1b557256f50 is calling an instrumented method <function Refine.get_response at 0x000001B537B57E20>. The path of this call may be incorrect.\n",
      "Guessing path of new object is app._response_synthesizer based on other object (0x1b54d543a90) using this function.\n"
     ]
    },
    {
     "name": "stdout",
     "output_type": "stream",
     "text": [
      "✅ What are the limitations or gaps identified in the document?\n"
     ]
    },
    {
     "name": "stderr",
     "output_type": "stream",
     "text": [
      "A new object of type <class 'llama_index.query_engine.retriever_query_engine.RetrieverQueryEngine'> at 0x1b557257050 is calling an instrumented method <function RetrieverQueryEngine.retrieve at 0x000001B5390C5620>. The path of this call may be incorrect.\n",
      "Guessing path of new object is app based on other object (0x1b54d543a50) using this function.\n",
      "A new object of type <class 'llama_index.response_synthesizers.compact_and_refine.CompactAndRefine'> at 0x1b557256f50 is calling an instrumented method <function CompactAndRefine.get_response at 0x000001B53725C5E0>. The path of this call may be incorrect.\n",
      "Guessing path of new object is app._response_synthesizer based on other object (0x1b54d543a90) using this function.\n",
      "A new object of type <class 'llama_index.response_synthesizers.compact_and_refine.CompactAndRefine'> at 0x1b557256f50 is calling an instrumented method <function Refine.get_response at 0x000001B537B57E20>. The path of this call may be incorrect.\n",
      "Guessing path of new object is app._response_synthesizer based on other object (0x1b54d543a90) using this function.\n"
     ]
    },
    {
     "name": "stdout",
     "output_type": "stream",
     "text": [
      "✅ What recommendations or next steps does the document propose?\n"
     ]
    }
   ],
   "source": [
    "# from llama_index.llms import OpenAI\n",
    "\n",
    "sentence_index_2 = build_sentence_window_index(\n",
    "    pdf,\n",
    "    llm=OpenAI(model=\"gpt-3.5-turbo\", temperature=0),\n",
    "    embed_model=\"local:BAAI/bge-small-en-v1.5\",\n",
    "    sentence_window_size=2,\n",
    "    save_dir=\"sentence_index_2\",\n",
    ")\n",
    "\n",
    "sentence_window_engine_2 = get_sentence_window_query_engine(\n",
    "    sentence_index_2\n",
    ")\n",
    "\n",
    "tru_recorder_2 = get_prebuilt_trulens_recorder(\n",
    "    sentence_window_engine_2,\n",
    "    app_id='Sentence Window s=2'\n",
    ")\n",
    "\n",
    "run_evals(eval_questions, tru_recorder_2, sentence_window_engine_2)"
   ]
  },
  {
   "cell_type": "markdown",
   "metadata": {},
   "source": [
    "### 4 - Sentence Window s=3"
   ]
  },
  {
   "cell_type": "code",
   "execution_count": 13,
   "metadata": {},
   "outputs": [
    {
     "name": "stderr",
     "output_type": "stream",
     "text": [
      "A new object of type <class 'llama_index.query_engine.retriever_query_engine.RetrieverQueryEngine'> at 0x1b54d536ad0 is calling an instrumented method <function BaseQueryEngine.query at 0x000001B5371F1580>. The path of this call may be incorrect.\n",
      "Guessing path of new object is app based on other object (0x1b54d543a50) using this function.\n",
      "A new object of type <class 'llama_index.query_engine.retriever_query_engine.RetrieverQueryEngine'> at 0x1b54d536ad0 is calling an instrumented method <function RetrieverQueryEngine.retrieve at 0x000001B5390C5620>. The path of this call may be incorrect.\n",
      "Guessing path of new object is app based on other object (0x1b54d543a50) using this function.\n",
      "A new object of type <class 'llama_index.indices.vector_store.retrievers.retriever.VectorIndexRetriever'> at 0x1b54d535390 is calling an instrumented method <function BaseRetriever.retrieve at 0x000001B5371F04A0>. The path of this call may be incorrect.\n",
      "Guessing path of new object is app.retriever based on other object (0x1b54d543b50) using this function.\n",
      "A new object of type <class 'llama_index.vector_stores.simple.SimpleVectorStore'> at 0x1b550043490 is calling an instrumented method <function SimpleVectorStore.query at 0x000001B5373676A0>. The path of this call may be incorrect.\n",
      "Guessing path of new object is app.retriever._index.vector_store based on other object (0x1b54acda8d0) using this function.\n",
      "A new object of type <class 'llama_index.response_synthesizers.compact_and_refine.CompactAndRefine'> at 0x1b54d537710 is calling an instrumented method <function BaseSynthesizer.synthesize at 0x000001B53722BE20>. The path of this call may be incorrect.\n",
      "Guessing path of new object is app._response_synthesizer based on other object (0x1b54d543a90) using this function.\n",
      "A new object of type <class 'llama_index.response_synthesizers.compact_and_refine.CompactAndRefine'> at 0x1b54d537710 is calling an instrumented method <function CompactAndRefine.get_response at 0x000001B53725C5E0>. The path of this call may be incorrect.\n",
      "Guessing path of new object is app._response_synthesizer based on other object (0x1b54d543a90) using this function.\n",
      "A new object of type <class 'llama_index.response_synthesizers.compact_and_refine.CompactAndRefine'> at 0x1b54d537710 is calling an instrumented method <function Refine.get_response at 0x000001B537B57E20>. The path of this call may be incorrect.\n",
      "Guessing path of new object is app._response_synthesizer based on other object (0x1b54d543a90) using this function.\n"
     ]
    },
    {
     "name": "stdout",
     "output_type": "stream",
     "text": [
      "✅ What is the main theme or topic of this document?\n"
     ]
    },
    {
     "name": "stderr",
     "output_type": "stream",
     "text": [
      "A new object of type <class 'llama_index.query_engine.retriever_query_engine.RetrieverQueryEngine'> at 0x1b54d536ad0 is calling an instrumented method <function RetrieverQueryEngine.retrieve at 0x000001B5390C5620>. The path of this call may be incorrect.\n",
      "Guessing path of new object is app based on other object (0x1b54d543a50) using this function.\n",
      "A new object of type <class 'llama_index.response_synthesizers.compact_and_refine.CompactAndRefine'> at 0x1b54d537710 is calling an instrumented method <function CompactAndRefine.get_response at 0x000001B53725C5E0>. The path of this call may be incorrect.\n",
      "Guessing path of new object is app._response_synthesizer based on other object (0x1b54d543a90) using this function.\n",
      "A new object of type <class 'llama_index.response_synthesizers.compact_and_refine.CompactAndRefine'> at 0x1b54d537710 is calling an instrumented method <function Refine.get_response at 0x000001B537B57E20>. The path of this call may be incorrect.\n",
      "Guessing path of new object is app._response_synthesizer based on other object (0x1b54d543a90) using this function.\n"
     ]
    },
    {
     "name": "stdout",
     "output_type": "stream",
     "text": [
      "✅ Can you summarize the key points made in this document?\n"
     ]
    },
    {
     "name": "stderr",
     "output_type": "stream",
     "text": [
      "A new object of type <class 'llama_index.query_engine.retriever_query_engine.RetrieverQueryEngine'> at 0x1b54d536ad0 is calling an instrumented method <function RetrieverQueryEngine.retrieve at 0x000001B5390C5620>. The path of this call may be incorrect.\n",
      "Guessing path of new object is app based on other object (0x1b54d543a50) using this function.\n",
      "A new object of type <class 'llama_index.response_synthesizers.compact_and_refine.CompactAndRefine'> at 0x1b54d537710 is calling an instrumented method <function CompactAndRefine.get_response at 0x000001B53725C5E0>. The path of this call may be incorrect.\n",
      "Guessing path of new object is app._response_synthesizer based on other object (0x1b54d543a90) using this function.\n",
      "A new object of type <class 'llama_index.response_synthesizers.compact_and_refine.CompactAndRefine'> at 0x1b54d537710 is calling an instrumented method <function Refine.get_response at 0x000001B537B57E20>. The path of this call may be incorrect.\n",
      "Guessing path of new object is app._response_synthesizer based on other object (0x1b54d543a90) using this function.\n"
     ]
    },
    {
     "name": "stdout",
     "output_type": "stream",
     "text": [
      "✅ What are the primary arguments or claims presented?\n"
     ]
    },
    {
     "name": "stderr",
     "output_type": "stream",
     "text": [
      "A new object of type <class 'llama_index.query_engine.retriever_query_engine.RetrieverQueryEngine'> at 0x1b54d536ad0 is calling an instrumented method <function RetrieverQueryEngine.retrieve at 0x000001B5390C5620>. The path of this call may be incorrect.\n",
      "Guessing path of new object is app based on other object (0x1b54d543a50) using this function.\n",
      "A new object of type <class 'llama_index.response_synthesizers.compact_and_refine.CompactAndRefine'> at 0x1b54d537710 is calling an instrumented method <function CompactAndRefine.get_response at 0x000001B53725C5E0>. The path of this call may be incorrect.\n",
      "Guessing path of new object is app._response_synthesizer based on other object (0x1b54d543a90) using this function.\n",
      "A new object of type <class 'llama_index.response_synthesizers.compact_and_refine.CompactAndRefine'> at 0x1b54d537710 is calling an instrumented method <function Refine.get_response at 0x000001B537B57E20>. The path of this call may be incorrect.\n",
      "Guessing path of new object is app._response_synthesizer based on other object (0x1b54d543a90) using this function.\n"
     ]
    },
    {
     "name": "stdout",
     "output_type": "stream",
     "text": [
      "✅ Are there any notable facts or figures mentioned? If so, what are they?\n"
     ]
    },
    {
     "name": "stderr",
     "output_type": "stream",
     "text": [
      "A new object of type <class 'llama_index.query_engine.retriever_query_engine.RetrieverQueryEngine'> at 0x1b54d536ad0 is calling an instrumented method <function RetrieverQueryEngine.retrieve at 0x000001B5390C5620>. The path of this call may be incorrect.\n",
      "Guessing path of new object is app based on other object (0x1b54d543a50) using this function.\n",
      "A new object of type <class 'llama_index.response_synthesizers.compact_and_refine.CompactAndRefine'> at 0x1b54d537710 is calling an instrumented method <function CompactAndRefine.get_response at 0x000001B53725C5E0>. The path of this call may be incorrect.\n",
      "Guessing path of new object is app._response_synthesizer based on other object (0x1b54d543a90) using this function.\n",
      "A new object of type <class 'llama_index.response_synthesizers.compact_and_refine.CompactAndRefine'> at 0x1b54d537710 is calling an instrumented method <function Refine.get_response at 0x000001B537B57E20>. The path of this call may be incorrect.\n",
      "Guessing path of new object is app._response_synthesizer based on other object (0x1b54d543a90) using this function.\n"
     ]
    },
    {
     "name": "stdout",
     "output_type": "stream",
     "text": [
      "✅ Can you provide an example or case study mentioned in the document?\n"
     ]
    },
    {
     "name": "stderr",
     "output_type": "stream",
     "text": [
      "A new object of type <class 'llama_index.query_engine.retriever_query_engine.RetrieverQueryEngine'> at 0x1b54d536ad0 is calling an instrumented method <function RetrieverQueryEngine.retrieve at 0x000001B5390C5620>. The path of this call may be incorrect.\n",
      "Guessing path of new object is app based on other object (0x1b54d543a50) using this function.\n",
      "A new object of type <class 'llama_index.response_synthesizers.compact_and_refine.CompactAndRefine'> at 0x1b54d537710 is calling an instrumented method <function CompactAndRefine.get_response at 0x000001B53725C5E0>. The path of this call may be incorrect.\n",
      "Guessing path of new object is app._response_synthesizer based on other object (0x1b54d543a90) using this function.\n",
      "A new object of type <class 'llama_index.response_synthesizers.compact_and_refine.CompactAndRefine'> at 0x1b54d537710 is calling an instrumented method <function Refine.get_response at 0x000001B537B57E20>. The path of this call may be incorrect.\n",
      "Guessing path of new object is app._response_synthesizer based on other object (0x1b54d543a90) using this function.\n"
     ]
    },
    {
     "name": "stdout",
     "output_type": "stream",
     "text": [
      "✅ What conclusions are drawn in this document?\n"
     ]
    },
    {
     "name": "stderr",
     "output_type": "stream",
     "text": [
      "A new object of type <class 'llama_index.query_engine.retriever_query_engine.RetrieverQueryEngine'> at 0x1b54d536ad0 is calling an instrumented method <function RetrieverQueryEngine.retrieve at 0x000001B5390C5620>. The path of this call may be incorrect.\n",
      "Guessing path of new object is app based on other object (0x1b54d543a50) using this function.\n",
      "A new object of type <class 'llama_index.response_synthesizers.compact_and_refine.CompactAndRefine'> at 0x1b54d537710 is calling an instrumented method <function CompactAndRefine.get_response at 0x000001B53725C5E0>. The path of this call may be incorrect.\n",
      "Guessing path of new object is app._response_synthesizer based on other object (0x1b54d543a90) using this function.\n",
      "A new object of type <class 'llama_index.response_synthesizers.compact_and_refine.CompactAndRefine'> at 0x1b54d537710 is calling an instrumented method <function Refine.get_response at 0x000001B537B57E20>. The path of this call may be incorrect.\n",
      "Guessing path of new object is app._response_synthesizer based on other object (0x1b54d543a90) using this function.\n"
     ]
    },
    {
     "name": "stdout",
     "output_type": "stream",
     "text": [
      "✅ Are there any contradictions or points of debate within the document?\n"
     ]
    },
    {
     "name": "stderr",
     "output_type": "stream",
     "text": [
      "A new object of type <class 'llama_index.query_engine.retriever_query_engine.RetrieverQueryEngine'> at 0x1b54d536ad0 is calling an instrumented method <function RetrieverQueryEngine.retrieve at 0x000001B5390C5620>. The path of this call may be incorrect.\n",
      "Guessing path of new object is app based on other object (0x1b54d543a50) using this function.\n",
      "A new object of type <class 'llama_index.response_synthesizers.compact_and_refine.CompactAndRefine'> at 0x1b54d537710 is calling an instrumented method <function CompactAndRefine.get_response at 0x000001B53725C5E0>. The path of this call may be incorrect.\n",
      "Guessing path of new object is app._response_synthesizer based on other object (0x1b54d543a90) using this function.\n",
      "A new object of type <class 'llama_index.response_synthesizers.compact_and_refine.CompactAndRefine'> at 0x1b54d537710 is calling an instrumented method <function Refine.get_response at 0x000001B537B57E20>. The path of this call may be incorrect.\n",
      "Guessing path of new object is app._response_synthesizer based on other object (0x1b54d543a90) using this function.\n"
     ]
    },
    {
     "name": "stdout",
     "output_type": "stream",
     "text": [
      "✅ What background or contextual information is provided?\n"
     ]
    },
    {
     "name": "stderr",
     "output_type": "stream",
     "text": [
      "A new object of type <class 'llama_index.query_engine.retriever_query_engine.RetrieverQueryEngine'> at 0x1b54d536ad0 is calling an instrumented method <function RetrieverQueryEngine.retrieve at 0x000001B5390C5620>. The path of this call may be incorrect.\n",
      "Guessing path of new object is app based on other object (0x1b54d543a50) using this function.\n",
      "A new object of type <class 'llama_index.response_synthesizers.compact_and_refine.CompactAndRefine'> at 0x1b54d537710 is calling an instrumented method <function CompactAndRefine.get_response at 0x000001B53725C5E0>. The path of this call may be incorrect.\n",
      "Guessing path of new object is app._response_synthesizer based on other object (0x1b54d543a90) using this function.\n",
      "A new object of type <class 'llama_index.response_synthesizers.compact_and_refine.CompactAndRefine'> at 0x1b54d537710 is calling an instrumented method <function Refine.get_response at 0x000001B537B57E20>. The path of this call may be incorrect.\n",
      "Guessing path of new object is app._response_synthesizer based on other object (0x1b54d543a90) using this function.\n"
     ]
    },
    {
     "name": "stdout",
     "output_type": "stream",
     "text": [
      "✅ What are the limitations or gaps identified in the document?\n"
     ]
    },
    {
     "name": "stderr",
     "output_type": "stream",
     "text": [
      "A new object of type <class 'llama_index.query_engine.retriever_query_engine.RetrieverQueryEngine'> at 0x1b54d536ad0 is calling an instrumented method <function RetrieverQueryEngine.retrieve at 0x000001B5390C5620>. The path of this call may be incorrect.\n",
      "Guessing path of new object is app based on other object (0x1b54d543a50) using this function.\n",
      "A new object of type <class 'llama_index.response_synthesizers.compact_and_refine.CompactAndRefine'> at 0x1b54d537710 is calling an instrumented method <function CompactAndRefine.get_response at 0x000001B53725C5E0>. The path of this call may be incorrect.\n",
      "Guessing path of new object is app._response_synthesizer based on other object (0x1b54d543a90) using this function.\n",
      "A new object of type <class 'llama_index.response_synthesizers.compact_and_refine.CompactAndRefine'> at 0x1b54d537710 is calling an instrumented method <function Refine.get_response at 0x000001B537B57E20>. The path of this call may be incorrect.\n",
      "Guessing path of new object is app._response_synthesizer based on other object (0x1b54d543a90) using this function.\n"
     ]
    },
    {
     "name": "stdout",
     "output_type": "stream",
     "text": [
      "✅ What recommendations or next steps does the document propose?\n"
     ]
    }
   ],
   "source": [
    "# from llama_index.llms import OpenAI\n",
    "\n",
    "sentence_index_3 = build_sentence_window_index(\n",
    "    pdf,\n",
    "    llm=OpenAI(model=\"gpt-3.5-turbo\", temperature=0),\n",
    "    embed_model=\"local:BAAI/bge-small-en-v1.5\",\n",
    "    sentence_window_size=3,\n",
    "    save_dir=\"sentence_index_3\",\n",
    ")\n",
    "\n",
    "sentence_window_engine_3 = get_sentence_window_query_engine(\n",
    "    sentence_index_3\n",
    ")\n",
    "\n",
    "tru_recorder_3 = get_prebuilt_trulens_recorder(\n",
    "    sentence_window_engine_3,\n",
    "    app_id='Sentence Window s=3'\n",
    ")\n",
    "\n",
    "run_evals(eval_questions, tru_recorder_3, sentence_window_engine_3)"
   ]
  },
  {
   "cell_type": "markdown",
   "metadata": {},
   "source": [
    "### 4 - Sentence Window s=5"
   ]
  },
  {
   "cell_type": "code",
   "execution_count": 14,
   "metadata": {},
   "outputs": [
    {
     "name": "stderr",
     "output_type": "stream",
     "text": [
      "A new object of type <class 'llama_index.query_engine.retriever_query_engine.RetrieverQueryEngine'> at 0x1b551265a90 is calling an instrumented method <function BaseQueryEngine.query at 0x000001B5371F1580>. The path of this call may be incorrect.\n",
      "Guessing path of new object is app based on other object (0x1b557257050) using this function.\n",
      "A new object of type <class 'llama_index.query_engine.retriever_query_engine.RetrieverQueryEngine'> at 0x1b551265a90 is calling an instrumented method <function RetrieverQueryEngine.retrieve at 0x000001B5390C5620>. The path of this call may be incorrect.\n",
      "Guessing path of new object is app based on other object (0x1b557257050) using this function.\n",
      "A new object of type <class 'llama_index.indices.vector_store.retrievers.retriever.VectorIndexRetriever'> at 0x1b551264bd0 is calling an instrumented method <function BaseRetriever.retrieve at 0x000001B5371F04A0>. The path of this call may be incorrect.\n",
      "Guessing path of new object is app.retriever based on other object (0x1b557256f10) using this function.\n",
      "A new object of type <class 'llama_index.vector_stores.simple.SimpleVectorStore'> at 0x1b5573c7390 is calling an instrumented method <function SimpleVectorStore.query at 0x000001B5373676A0>. The path of this call may be incorrect.\n",
      "Guessing path of new object is app.retriever._index.vector_store based on other object (0x1b55723c0d0) using this function.\n",
      "A new object of type <class 'llama_index.response_synthesizers.compact_and_refine.CompactAndRefine'> at 0x1b551265fd0 is calling an instrumented method <function BaseSynthesizer.synthesize at 0x000001B53722BE20>. The path of this call may be incorrect.\n",
      "Guessing path of new object is app._response_synthesizer based on other object (0x1b557256f50) using this function.\n",
      "A new object of type <class 'llama_index.response_synthesizers.compact_and_refine.CompactAndRefine'> at 0x1b551265fd0 is calling an instrumented method <function CompactAndRefine.get_response at 0x000001B53725C5E0>. The path of this call may be incorrect.\n",
      "Guessing path of new object is app._response_synthesizer based on other object (0x1b557256f50) using this function.\n",
      "A new object of type <class 'llama_index.response_synthesizers.compact_and_refine.CompactAndRefine'> at 0x1b551265fd0 is calling an instrumented method <function Refine.get_response at 0x000001B537B57E20>. The path of this call may be incorrect.\n",
      "Guessing path of new object is app._response_synthesizer based on other object (0x1b557256f50) using this function.\n"
     ]
    },
    {
     "name": "stdout",
     "output_type": "stream",
     "text": [
      "✅ What is the main theme or topic of this document?\n"
     ]
    },
    {
     "name": "stderr",
     "output_type": "stream",
     "text": [
      "A new object of type <class 'llama_index.query_engine.retriever_query_engine.RetrieverQueryEngine'> at 0x1b551265a90 is calling an instrumented method <function RetrieverQueryEngine.retrieve at 0x000001B5390C5620>. The path of this call may be incorrect.\n",
      "Guessing path of new object is app based on other object (0x1b557257050) using this function.\n",
      "A new object of type <class 'llama_index.response_synthesizers.compact_and_refine.CompactAndRefine'> at 0x1b551265fd0 is calling an instrumented method <function CompactAndRefine.get_response at 0x000001B53725C5E0>. The path of this call may be incorrect.\n",
      "Guessing path of new object is app._response_synthesizer based on other object (0x1b557256f50) using this function.\n",
      "A new object of type <class 'llama_index.response_synthesizers.compact_and_refine.CompactAndRefine'> at 0x1b551265fd0 is calling an instrumented method <function Refine.get_response at 0x000001B537B57E20>. The path of this call may be incorrect.\n",
      "Guessing path of new object is app._response_synthesizer based on other object (0x1b557256f50) using this function.\n"
     ]
    },
    {
     "name": "stdout",
     "output_type": "stream",
     "text": [
      "✅ Can you summarize the key points made in this document?\n"
     ]
    },
    {
     "name": "stderr",
     "output_type": "stream",
     "text": [
      "A new object of type <class 'llama_index.query_engine.retriever_query_engine.RetrieverQueryEngine'> at 0x1b551265a90 is calling an instrumented method <function RetrieverQueryEngine.retrieve at 0x000001B5390C5620>. The path of this call may be incorrect.\n",
      "Guessing path of new object is app based on other object (0x1b557257050) using this function.\n",
      "A new object of type <class 'llama_index.response_synthesizers.compact_and_refine.CompactAndRefine'> at 0x1b551265fd0 is calling an instrumented method <function CompactAndRefine.get_response at 0x000001B53725C5E0>. The path of this call may be incorrect.\n",
      "Guessing path of new object is app._response_synthesizer based on other object (0x1b557256f50) using this function.\n",
      "A new object of type <class 'llama_index.response_synthesizers.compact_and_refine.CompactAndRefine'> at 0x1b551265fd0 is calling an instrumented method <function Refine.get_response at 0x000001B537B57E20>. The path of this call may be incorrect.\n",
      "Guessing path of new object is app._response_synthesizer based on other object (0x1b557256f50) using this function.\n"
     ]
    },
    {
     "name": "stdout",
     "output_type": "stream",
     "text": [
      "✅ What are the primary arguments or claims presented?\n"
     ]
    },
    {
     "name": "stderr",
     "output_type": "stream",
     "text": [
      "A new object of type <class 'llama_index.query_engine.retriever_query_engine.RetrieverQueryEngine'> at 0x1b551265a90 is calling an instrumented method <function RetrieverQueryEngine.retrieve at 0x000001B5390C5620>. The path of this call may be incorrect.\n",
      "Guessing path of new object is app based on other object (0x1b557257050) using this function.\n",
      "A new object of type <class 'llama_index.response_synthesizers.compact_and_refine.CompactAndRefine'> at 0x1b551265fd0 is calling an instrumented method <function CompactAndRefine.get_response at 0x000001B53725C5E0>. The path of this call may be incorrect.\n",
      "Guessing path of new object is app._response_synthesizer based on other object (0x1b557256f50) using this function.\n",
      "A new object of type <class 'llama_index.response_synthesizers.compact_and_refine.CompactAndRefine'> at 0x1b551265fd0 is calling an instrumented method <function Refine.get_response at 0x000001B537B57E20>. The path of this call may be incorrect.\n",
      "Guessing path of new object is app._response_synthesizer based on other object (0x1b557256f50) using this function.\n"
     ]
    },
    {
     "name": "stdout",
     "output_type": "stream",
     "text": [
      "✅ Are there any notable facts or figures mentioned? If so, what are they?\n"
     ]
    },
    {
     "name": "stderr",
     "output_type": "stream",
     "text": [
      "A new object of type <class 'llama_index.query_engine.retriever_query_engine.RetrieverQueryEngine'> at 0x1b551265a90 is calling an instrumented method <function RetrieverQueryEngine.retrieve at 0x000001B5390C5620>. The path of this call may be incorrect.\n",
      "Guessing path of new object is app based on other object (0x1b557257050) using this function.\n",
      "A new object of type <class 'llama_index.response_synthesizers.compact_and_refine.CompactAndRefine'> at 0x1b551265fd0 is calling an instrumented method <function CompactAndRefine.get_response at 0x000001B53725C5E0>. The path of this call may be incorrect.\n",
      "Guessing path of new object is app._response_synthesizer based on other object (0x1b557256f50) using this function.\n",
      "A new object of type <class 'llama_index.response_synthesizers.compact_and_refine.CompactAndRefine'> at 0x1b551265fd0 is calling an instrumented method <function Refine.get_response at 0x000001B537B57E20>. The path of this call may be incorrect.\n",
      "Guessing path of new object is app._response_synthesizer based on other object (0x1b557256f50) using this function.\n"
     ]
    },
    {
     "name": "stdout",
     "output_type": "stream",
     "text": [
      "✅ Can you provide an example or case study mentioned in the document?\n"
     ]
    },
    {
     "name": "stderr",
     "output_type": "stream",
     "text": [
      "A new object of type <class 'llama_index.query_engine.retriever_query_engine.RetrieverQueryEngine'> at 0x1b551265a90 is calling an instrumented method <function RetrieverQueryEngine.retrieve at 0x000001B5390C5620>. The path of this call may be incorrect.\n",
      "Guessing path of new object is app based on other object (0x1b557257050) using this function.\n",
      "A new object of type <class 'llama_index.response_synthesizers.compact_and_refine.CompactAndRefine'> at 0x1b551265fd0 is calling an instrumented method <function CompactAndRefine.get_response at 0x000001B53725C5E0>. The path of this call may be incorrect.\n",
      "Guessing path of new object is app._response_synthesizer based on other object (0x1b557256f50) using this function.\n",
      "A new object of type <class 'llama_index.response_synthesizers.compact_and_refine.CompactAndRefine'> at 0x1b551265fd0 is calling an instrumented method <function Refine.get_response at 0x000001B537B57E20>. The path of this call may be incorrect.\n",
      "Guessing path of new object is app._response_synthesizer based on other object (0x1b557256f50) using this function.\n"
     ]
    },
    {
     "name": "stdout",
     "output_type": "stream",
     "text": [
      "✅ What conclusions are drawn in this document?\n"
     ]
    },
    {
     "name": "stderr",
     "output_type": "stream",
     "text": [
      "A new object of type <class 'llama_index.query_engine.retriever_query_engine.RetrieverQueryEngine'> at 0x1b551265a90 is calling an instrumented method <function RetrieverQueryEngine.retrieve at 0x000001B5390C5620>. The path of this call may be incorrect.\n",
      "Guessing path of new object is app based on other object (0x1b557257050) using this function.\n",
      "A new object of type <class 'llama_index.response_synthesizers.compact_and_refine.CompactAndRefine'> at 0x1b551265fd0 is calling an instrumented method <function CompactAndRefine.get_response at 0x000001B53725C5E0>. The path of this call may be incorrect.\n",
      "Guessing path of new object is app._response_synthesizer based on other object (0x1b557256f50) using this function.\n",
      "A new object of type <class 'llama_index.response_synthesizers.compact_and_refine.CompactAndRefine'> at 0x1b551265fd0 is calling an instrumented method <function Refine.get_response at 0x000001B537B57E20>. The path of this call may be incorrect.\n",
      "Guessing path of new object is app._response_synthesizer based on other object (0x1b557256f50) using this function.\n"
     ]
    },
    {
     "name": "stdout",
     "output_type": "stream",
     "text": [
      "✅ Are there any contradictions or points of debate within the document?\n"
     ]
    },
    {
     "name": "stderr",
     "output_type": "stream",
     "text": [
      "A new object of type <class 'llama_index.query_engine.retriever_query_engine.RetrieverQueryEngine'> at 0x1b551265a90 is calling an instrumented method <function RetrieverQueryEngine.retrieve at 0x000001B5390C5620>. The path of this call may be incorrect.\n",
      "Guessing path of new object is app based on other object (0x1b557257050) using this function.\n",
      "Run of <lambda> in <Thread(TP.submit with debug timeout_2, started 21972)> timed out after 600.0 second(s).\n",
      "c:\\Users\\Nacho\\anaconda3\\envs\\TFM\\Lib\\site-packages\\trulens_eval\\tru.py:221\n",
      "exception calling callback for <Future at 0x1b5570e6a50 state=finished raised TimeoutError>\n",
      "Traceback (most recent call last):\n",
      "  File \"c:\\Users\\Nacho\\anaconda3\\envs\\TFM\\Lib\\concurrent\\futures\\_base.py\", line 340, in _invoke_callbacks\n",
      "    callback(self)\n",
      "  File \"c:\\Users\\Nacho\\anaconda3\\envs\\TFM\\Lib\\site-packages\\trulens_eval\\app.py\", line 946, in _add_future_feedback\n",
      "    _, res = future.result()\n",
      "             ^^^^^^^^^^^^^^^\n",
      "  File \"c:\\Users\\Nacho\\anaconda3\\envs\\TFM\\Lib\\concurrent\\futures\\_base.py\", line 449, in result\n",
      "    return self.__get_result()\n",
      "           ^^^^^^^^^^^^^^^^^^^\n",
      "  File \"c:\\Users\\Nacho\\anaconda3\\envs\\TFM\\Lib\\concurrent\\futures\\_base.py\", line 401, in __get_result\n",
      "    raise self._exception\n",
      "  File \"c:\\Users\\Nacho\\anaconda3\\envs\\TFM\\Lib\\concurrent\\futures\\thread.py\", line 58, in run\n",
      "    result = self.fn(*self.args, **self.kwargs)\n",
      "             ^^^^^^^^^^^^^^^^^^^^^^^^^^^^^^^^^^\n",
      "  File \"c:\\Users\\Nacho\\anaconda3\\envs\\TFM\\Lib\\site-packages\\trulens_eval\\utils\\python.py\", line 228, in _future_target_wrapper\n",
      "    return func(*args, **kwargs)\n",
      "           ^^^^^^^^^^^^^^^^^^^^^\n",
      "  File \"c:\\Users\\Nacho\\anaconda3\\envs\\TFM\\Lib\\site-packages\\trulens_eval\\utils\\threading.py\", line 111, in _run_with_timeout\n",
      "    raise e\n",
      "  File \"c:\\Users\\Nacho\\anaconda3\\envs\\TFM\\Lib\\site-packages\\trulens_eval\\utils\\threading.py\", line 102, in _run_with_timeout\n",
      "    res: T = fut.result(timeout=timeout)\n",
      "             ^^^^^^^^^^^^^^^^^^^^^^^^^^^\n",
      "  File \"c:\\Users\\Nacho\\anaconda3\\envs\\TFM\\Lib\\concurrent\\futures\\_base.py\", line 458, in result\n",
      "    raise TimeoutError()\n",
      "TimeoutError\n",
      "A new object of type <class 'llama_index.response_synthesizers.compact_and_refine.CompactAndRefine'> at 0x1b551265fd0 is calling an instrumented method <function CompactAndRefine.get_response at 0x000001B53725C5E0>. The path of this call may be incorrect.\n",
      "Guessing path of new object is app._response_synthesizer based on other object (0x1b557256f50) using this function.\n",
      "A new object of type <class 'llama_index.response_synthesizers.compact_and_refine.CompactAndRefine'> at 0x1b551265fd0 is calling an instrumented method <function Refine.get_response at 0x000001B537B57E20>. The path of this call may be incorrect.\n",
      "Guessing path of new object is app._response_synthesizer based on other object (0x1b557256f50) using this function.\n"
     ]
    },
    {
     "name": "stdout",
     "output_type": "stream",
     "text": [
      "✅ What background or contextual information is provided?\n"
     ]
    },
    {
     "name": "stderr",
     "output_type": "stream",
     "text": [
      "A new object of type <class 'llama_index.query_engine.retriever_query_engine.RetrieverQueryEngine'> at 0x1b551265a90 is calling an instrumented method <function RetrieverQueryEngine.retrieve at 0x000001B5390C5620>. The path of this call may be incorrect.\n",
      "Guessing path of new object is app based on other object (0x1b557257050) using this function.\n",
      "A new object of type <class 'llama_index.response_synthesizers.compact_and_refine.CompactAndRefine'> at 0x1b551265fd0 is calling an instrumented method <function CompactAndRefine.get_response at 0x000001B53725C5E0>. The path of this call may be incorrect.\n",
      "Guessing path of new object is app._response_synthesizer based on other object (0x1b557256f50) using this function.\n",
      "A new object of type <class 'llama_index.response_synthesizers.compact_and_refine.CompactAndRefine'> at 0x1b551265fd0 is calling an instrumented method <function Refine.get_response at 0x000001B537B57E20>. The path of this call may be incorrect.\n",
      "Guessing path of new object is app._response_synthesizer based on other object (0x1b557256f50) using this function.\n"
     ]
    },
    {
     "name": "stdout",
     "output_type": "stream",
     "text": [
      "✅ What are the limitations or gaps identified in the document?\n"
     ]
    },
    {
     "name": "stderr",
     "output_type": "stream",
     "text": [
      "A new object of type <class 'llama_index.query_engine.retriever_query_engine.RetrieverQueryEngine'> at 0x1b551265a90 is calling an instrumented method <function RetrieverQueryEngine.retrieve at 0x000001B5390C5620>. The path of this call may be incorrect.\n",
      "Guessing path of new object is app based on other object (0x1b557257050) using this function.\n",
      "A new object of type <class 'llama_index.response_synthesizers.compact_and_refine.CompactAndRefine'> at 0x1b551265fd0 is calling an instrumented method <function CompactAndRefine.get_response at 0x000001B53725C5E0>. The path of this call may be incorrect.\n",
      "Guessing path of new object is app._response_synthesizer based on other object (0x1b557256f50) using this function.\n",
      "A new object of type <class 'llama_index.response_synthesizers.compact_and_refine.CompactAndRefine'> at 0x1b551265fd0 is calling an instrumented method <function Refine.get_response at 0x000001B537B57E20>. The path of this call may be incorrect.\n",
      "Guessing path of new object is app._response_synthesizer based on other object (0x1b557256f50) using this function.\n"
     ]
    },
    {
     "name": "stdout",
     "output_type": "stream",
     "text": [
      "✅ What recommendations or next steps does the document propose?\n"
     ]
    }
   ],
   "source": [
    "# from llama_index.llms import OpenAI\n",
    "\n",
    "sentence_index_5 = build_sentence_window_index(\n",
    "    pdf,\n",
    "    llm=OpenAI(model=\"gpt-3.5-turbo\", temperature=0),\n",
    "    embed_model=\"local:BAAI/bge-small-en-v1.5\",\n",
    "    sentence_window_size=5,\n",
    "    save_dir=\"sentence_index_5\",\n",
    ")\n",
    "\n",
    "sentence_window_engine_5 = get_sentence_window_query_engine(\n",
    "    sentence_index_5\n",
    ")\n",
    "\n",
    "tru_recorder_5 = get_prebuilt_trulens_recorder(\n",
    "    sentence_window_engine_5,\n",
    "    app_id='Sentence Window s=5'\n",
    ")\n",
    "\n",
    "run_evals(eval_questions, tru_recorder_5, sentence_window_engine_5)"
   ]
  },
  {
   "cell_type": "markdown",
   "metadata": {},
   "source": [
    "### 5 - Sentence Window s=10"
   ]
  },
  {
   "cell_type": "code",
   "execution_count": 15,
   "metadata": {},
   "outputs": [
    {
     "name": "stdout",
     "output_type": "stream",
     "text": [
      "✅ What is the main theme or topic of this document?\n",
      "✅ Can you summarize the key points made in this document?\n",
      "✅ What are the primary arguments or claims presented?\n",
      "✅ Are there any notable facts or figures mentioned? If so, what are they?\n",
      "✅ Can you provide an example or case study mentioned in the document?\n",
      "✅ What conclusions are drawn in this document?\n",
      "✅ Are there any contradictions or points of debate within the document?\n",
      "✅ What background or contextual information is provided?\n",
      "✅ What are the limitations or gaps identified in the document?\n",
      "✅ What recommendations or next steps does the document propose?\n"
     ]
    }
   ],
   "source": [
    "# from llama_index.llms import OpenAI\n",
    "\n",
    "sentence_index_10 = build_sentence_window_index(\n",
    "    pdf,\n",
    "    llm=OpenAI(model=\"gpt-3.5-turbo\", temperature=0),\n",
    "    embed_model=\"local:BAAI/bge-small-en-v1.5\",\n",
    "    sentence_window_size=10,\n",
    "    save_dir=\"sentence_index_10\",\n",
    ")\n",
    "\n",
    "sentence_window_engine_10 = get_sentence_window_query_engine(\n",
    "    sentence_index_10\n",
    ")\n",
    "\n",
    "tru_recorder_10 = get_prebuilt_trulens_recorder(\n",
    "    sentence_window_engine_10,\n",
    "    app_id='Sentence Window s=10'\n",
    ")\n",
    "\n",
    "run_evals(eval_questions, tru_recorder_10, sentence_window_engine_10)"
   ]
  },
  {
   "cell_type": "markdown",
   "metadata": {},
   "source": [
    "### 6 - Sentence Window s=20"
   ]
  },
  {
   "cell_type": "code",
   "execution_count": 16,
   "metadata": {},
   "outputs": [
    {
     "name": "stdout",
     "output_type": "stream",
     "text": [
      "✅ What is the main theme or topic of this document?\n",
      "✅ Can you summarize the key points made in this document?\n",
      "✅ What are the primary arguments or claims presented?\n",
      "✅ Are there any notable facts or figures mentioned? If so, what are they?\n",
      "✅ Can you provide an example or case study mentioned in the document?\n",
      "✅ What conclusions are drawn in this document?\n",
      "✅ Are there any contradictions or points of debate within the document?\n",
      "✅ What background or contextual information is provided?\n",
      "✅ What are the limitations or gaps identified in the document?\n",
      "✅ What recommendations or next steps does the document propose?\n"
     ]
    }
   ],
   "source": [
    "# from llama_index.llms import OpenAI\n",
    "\n",
    "sentence_index_20 = build_sentence_window_index(\n",
    "    pdf,\n",
    "    llm=OpenAI(model=\"gpt-3.5-turbo\", temperature=0),\n",
    "    embed_model=\"local:BAAI/bge-small-en-v1.5\",\n",
    "    sentence_window_size=20,\n",
    "    save_dir=\"sentence_index_20\",\n",
    ")\n",
    "\n",
    "sentence_window_engine_20 = get_sentence_window_query_engine(\n",
    "    sentence_index_20\n",
    ")\n",
    "\n",
    "tru_recorder_20 = get_prebuilt_trulens_recorder(\n",
    "    sentence_window_engine_20,\n",
    "    app_id='Sentence Window s=20'\n",
    ")\n",
    "\n",
    "run_evals(eval_questions, tru_recorder_20, sentence_window_engine_20)"
   ]
  },
  {
   "cell_type": "markdown",
   "metadata": {},
   "source": [
    "### 7 - Sentence Window s=30"
   ]
  },
  {
   "cell_type": "code",
   "execution_count": null,
   "metadata": {},
   "outputs": [],
   "source": [
    "# from llama_index.llms import OpenAI\n",
    "\n",
    "# sentence_index_30 = build_sentence_window_index(\n",
    "#     pdf,\n",
    "#     llm=OpenAI(model=\"gpt-3.5-turbo\", temperature=0),\n",
    "#     embed_model=\"local:BAAI/bge-small-en-v1.5\",\n",
    "#     sentence_window_size=30,\n",
    "#     save_dir=\"sentence_index_30\",\n",
    "# )\n",
    "\n",
    "# sentence_window_engine_30 = get_sentence_window_query_engine(\n",
    "#     sentence_index_30\n",
    "# )\n",
    "\n",
    "# tru_recorder_30 = get_prebuilt_trulens_recorder(\n",
    "#     sentence_window_engine_30,\n",
    "#     app_id='Sentence Window s=30'\n",
    "# )\n",
    "\n",
    "# run_evals(eval_questions, tru_recorder_30, sentence_window_engine_30)"
   ]
  },
  {
   "cell_type": "markdown",
   "metadata": {},
   "source": [
    "### 8 - Sentence Window s=40"
   ]
  },
  {
   "cell_type": "code",
   "execution_count": null,
   "metadata": {},
   "outputs": [
    {
     "name": "stdout",
     "output_type": "stream",
     "text": [
      "✅ What is the main theme or topic of this document?\n",
      "✅ Can you summarize the key points made in this document?\n",
      "✅ What are the primary arguments or claims presented?\n",
      "✅ Are there any notable facts or figures mentioned? If so, what are they?\n",
      "✅ Can you provide an example or case study mentioned in the document?\n",
      "✅ What conclusions are drawn in this document?\n",
      "✅ Are there any contradictions or points of debate within the document?\n",
      "✅ What background or contextual information is provided?\n",
      "✅ What are the limitations or gaps identified in the document?\n",
      "✅ What recommendations or next steps does the document propose?\n"
     ]
    }
   ],
   "source": [
    "# # from llama_index.llms import OpenAI\n",
    "\n",
    "# sentence_index_40 = build_sentence_window_index(\n",
    "#     pdf,\n",
    "#     llm=OpenAI(model=\"gpt-3.5-turbo\", temperature=0),\n",
    "#     embed_model=\"local:BAAI/bge-small-en-v1.5\",\n",
    "#     sentence_window_size=40,\n",
    "#     save_dir=\"sentence_index_40\",\n",
    "# )\n",
    "\n",
    "# sentence_window_engine_40 = get_sentence_window_query_engine(\n",
    "#     sentence_index_40\n",
    "# )\n",
    "\n",
    "# tru_recorder_40 = get_prebuilt_trulens_recorder(\n",
    "#     sentence_window_engine_40,\n",
    "#     app_id='Sentence Window s=40'\n",
    "# )\n",
    "\n",
    "# run_evals(eval_questions, tru_recorder_40, sentence_window_engine_40)"
   ]
  },
  {
   "cell_type": "markdown",
   "metadata": {},
   "source": [
    "### 9 - Sentence Window s=50"
   ]
  },
  {
   "cell_type": "code",
   "execution_count": 17,
   "metadata": {},
   "outputs": [
    {
     "name": "stdout",
     "output_type": "stream",
     "text": [
      "✅ What is the main theme or topic of this document?\n",
      "✅ Can you summarize the key points made in this document?\n",
      "✅ What are the primary arguments or claims presented?\n",
      "✅ Are there any notable facts or figures mentioned? If so, what are they?\n",
      "✅ Can you provide an example or case study mentioned in the document?\n",
      "✅ What conclusions are drawn in this document?\n",
      "✅ Are there any contradictions or points of debate within the document?\n",
      "✅ What background or contextual information is provided?\n",
      "✅ What are the limitations or gaps identified in the document?\n",
      "✅ What recommendations or next steps does the document propose?\n"
     ]
    }
   ],
   "source": [
    "from llama_index.llms import OpenAI\n",
    "\n",
    "sentence_index_50 = build_sentence_window_index(\n",
    "    pdf,\n",
    "    llm=OpenAI(model=\"gpt-3.5-turbo\", temperature=0),\n",
    "    embed_model=\"local:BAAI/bge-small-en-v1.5\",\n",
    "    sentence_window_size=50,\n",
    "    save_dir=\"sentence_index_50\",\n",
    ")\n",
    "\n",
    "sentence_window_engine_50 = get_sentence_window_query_engine(\n",
    "    sentence_index_50\n",
    ")\n",
    "\n",
    "tru_recorder_50 = get_prebuilt_trulens_recorder(\n",
    "    sentence_window_engine_50,\n",
    "    app_id='Sentence Window s=50'\n",
    ")\n",
    "\n",
    "run_evals(eval_questions, tru_recorder_50, sentence_window_engine_50)"
   ]
  },
  {
   "cell_type": "markdown",
   "metadata": {},
   "source": [
    "### 10 - Sentence Window s=70"
   ]
  },
  {
   "cell_type": "code",
   "execution_count": null,
   "metadata": {},
   "outputs": [],
   "source": [
    "# from llama_index.llms import OpenAI\n",
    "\n",
    "# sentence_index_70 = build_sentence_window_index(\n",
    "#     pdf,\n",
    "#     llm=OpenAI(model=\"gpt-3.5-turbo\", temperature=0),\n",
    "#     embed_model=\"local:BAAI/bge-small-en-v1.5\",\n",
    "#     sentence_window_size=70,\n",
    "#     save_dir=\"sentence_index_70\",\n",
    "# )\n",
    "\n",
    "# sentence_window_engine_70 = get_sentence_window_query_engine(\n",
    "#     sentence_index_70\n",
    "# )\n",
    "\n",
    "# tru_recorder_70 = get_prebuilt_trulens_recorder(\n",
    "#     sentence_window_engine_70,\n",
    "#     app_id='Sentence Window s=70'\n",
    "# )\n",
    "\n",
    "# run_evals(eval_questions, tru_recorder_70, sentence_window_engine_70)"
   ]
  },
  {
   "cell_type": "markdown",
   "metadata": {},
   "source": [
    "### 11 - Sentence Window s=100"
   ]
  },
  {
   "cell_type": "code",
   "execution_count": null,
   "metadata": {},
   "outputs": [],
   "source": [
    "# from llama_index.llms import OpenAI\n",
    "\n",
    "sentence_index_100 = build_sentence_window_index(\n",
    "    pdf,\n",
    "    llm=OpenAI(model=\"gpt-3.5-turbo\", temperature=0),\n",
    "    embed_model=\"local:BAAI/bge-small-en-v1.5\",\n",
    "    sentence_window_size=100,\n",
    "    save_dir=\"sentence_index_100\",\n",
    ")\n",
    "\n",
    "sentence_window_engine_100 = get_sentence_window_query_engine(\n",
    "    sentence_index_100\n",
    ")\n",
    "\n",
    "tru_recorder_100 = get_prebuilt_trulens_recorder(\n",
    "    sentence_window_engine_100,\n",
    "    app_id='Sentence Window s=100'\n",
    ")\n",
    "\n",
    "run_evals(eval_questions, tru_recorder_100, sentence_window_engine_100)"
   ]
  },
  {
   "cell_type": "code",
   "execution_count": null,
   "metadata": {},
   "outputs": [],
   "source": [
    "# Vizualize evaluation results on each concept\n",
    "tru.run_dashboard()"
   ]
  },
  {
   "cell_type": "code",
   "execution_count": null,
   "metadata": {},
   "outputs": [],
   "source": [
    "tru.stop_dashboard()"
   ]
  }
 ],
 "metadata": {
  "kernelspec": {
   "display_name": "TFM",
   "language": "python",
   "name": "python3"
  },
  "language_info": {
   "codemirror_mode": {
    "name": "ipython",
    "version": 3
   },
   "file_extension": ".py",
   "mimetype": "text/x-python",
   "name": "python",
   "nbconvert_exporter": "python",
   "pygments_lexer": "ipython3",
   "version": "3.11.5"
  }
 },
 "nbformat": 4,
 "nbformat_minor": 2
}
